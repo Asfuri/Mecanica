{
 "cells": [
  {
   "cell_type": "markdown",
   "metadata": {},
   "source": [
    "### Definição de Constantes e Parâmetros\n",
    "\n",
    "Nesta seção, definiremos as propriedades e dimensão dos elementos estruturais.\n",
    "- Módulo de Elasticidade: Mede a rigidez do material. É definido como a razão entre a tensão aplicada e deformação sofrida pelo material. $$[\\frac{Tensão}{Deforma\\c{c}ão}] = N/m^2 = Pa$$.\n",
    "- Área de Seção Transversal: Área da seção transversal dos elementos, definida como $$Comprimento_{externo}^2 - Comprimento_{Interno}^2,$$ pois todos os elementos possuem como seção transversal quadrados ocos. $$[Área \\ da \\ se\\c{c}ão \\ transversal] = m^2$$\n",
    "- Comprimento: Distância entre dois nós da estrutura. $$[Comprimento] = m$$\n",
    "- Ângulo: Orientação dos elementos em relação ao sistema de coordenadas globais. $$[Ângulo] = \\frac{m}{m} = rad$$"
   ]
  },
  {
   "cell_type": "code",
   "execution_count": 227,
   "metadata": {},
   "outputs": [],
   "source": [
    "import numpy as np\n",
    "from sympy import *\n",
    "np.set_printoptions(linewidth=200)\n",
    "from sympy import init_printing\n",
    "init_printing(num_columns=100)\n",
    "\n",
    "# Definição de Constantes e Parâmetros\n",
    "E = Symbol('E')\n",
    "A = Symbol('A')\n",
    "L1 = Symbol('L1')\n",
    "L2 = Symbol('L2')\n",
    "ang1 = Symbol('ang1')\n",
    "ang2 = Symbol('ang2')\n",
    "# Módulo de elasticidade (Pa)\n",
    "E = 70e9\n",
    "\n",
    "# Área da seção transversal (m²)\n",
    "A = 0.000063\n",
    "\n",
    "# Comprimentos dos elementos (m)\n",
    "L1 = sqrt(5)  # Comprimento do elemento 1\n",
    "L2 = 2           # Comprimento do elemento 2\n",
    "\n",
    "# Ângulos dos elementos (radianos)\n",
    "ang1 = atan(-0.5)  # Ângulo do elemento 1\n",
    "ang2 = 0                # Ângulo do elemento 2"
   ]
  },
  {
   "cell_type": "markdown",
   "metadata": {},
   "source": [
    "### Cálculo das Matrizes de Rigidez"
   ]
  },
  {
   "cell_type": "markdown",
   "metadata": {},
   "source": [
    "$$\n",
    "  \\frac{EA}{L}\n",
    "  \\begin{bmatrix}\n",
    "    \\cos^2{\\alpha}            & \\cos{\\alpha}\\sin{\\alpha}  & -\\cos^2{\\alpha}           & -\\cos{\\alpha}\\sin{\\alpha} \\\\\n",
    "    \\cos{\\alpha}\\sin{\\alpha}  & \\sin^2{\\alpha}            & -\\cos{\\alpha}\\sin{\\alpha} & -\\sin^2{\\alpha}           \\\\\n",
    "    -\\cos^2{\\alpha}           & -\\cos{\\alpha}\\sin{\\alpha} & \\cos^2{\\alpha}            & \\cos{\\alpha}\\sin{\\alpha}  \\\\\n",
    "    -\\cos{\\alpha}\\sin{\\alpha} & -\\sin^2{\\alpha}            & \\cos{\\alpha}\\sin{\\alpha}  & \\sin^2{\\alpha}           \\\\\n",
    "  \\end{bmatrix}\n",
    "$$\n",
    "Essa é a matriz de rigidez das treliças 2D no Sistema Global de Coordenadas"
   ]
  },
  {
   "cell_type": "code",
   "execution_count": 228,
   "metadata": {},
   "outputs": [
    {
     "name": "stdout",
     "output_type": "stream",
     "text": [
      "Matriz de rigidez do elemento 1 (k1):\n",
      "⎡705600.0⋅√5   -352800.0⋅√5  -705600.0⋅√5  352800.0⋅√5 ⎤\n",
      "⎢                                                      ⎥\n",
      "⎢-352800.0⋅√5  176400.0⋅√5   352800.0⋅√5   -176400.0⋅√5⎥\n",
      "⎢                                                      ⎥\n",
      "⎢-705600.0⋅√5  352800.0⋅√5   705600.0⋅√5   -352800.0⋅√5⎥\n",
      "⎢                                                      ⎥\n",
      "⎣352800.0⋅√5   -176400.0⋅√5  -352800.0⋅√5  176400.0⋅√5 ⎦\n",
      "\n",
      "Matriz de rigidez do elemento 2 (k2):\n",
      "⎡2205000.0   0  -2205000.0  0⎤\n",
      "⎢                            ⎥\n",
      "⎢    0       0      0       0⎥\n",
      "⎢                            ⎥\n",
      "⎢-2205000.0  0  2205000.0   0⎥\n",
      "⎢                            ⎥\n",
      "⎣    0       0      0       0⎦\n"
     ]
    }
   ],
   "source": [
    "# Constantes de rigidez axial dos elementos\n",
    "EAKL1 = E * A / L1  # Rigidez axial do elemento 1\n",
    "EAKL2 = E * A / L2  # Rigidez axial do elemento 2\n",
    "\n",
    "# Matriz de Rigidez\n",
    "def calcular_matriz_rigidez(E, A, L, angulo):\n",
    "    EA_L = E * A / L\n",
    "    c = cos(angulo)\n",
    "    s = sin(angulo)\n",
    "    return EA_L * Matrix([\n",
    "        [c**2, c*s, -c**2, -c*s],\n",
    "        [c*s, s**2, -c*s, -s**2],\n",
    "        [-c**2, -c*s, c**2, c*s],\n",
    "        [-c*s, -s**2, c*s, s**2]\n",
    "    ])\n",
    "\n",
    "# Matriz de rigidez do elemento 1\n",
    "k1 = calcular_matriz_rigidez(E, A, L1, ang1)\n",
    "\n",
    "# Matriz de rigidez do elemento 2\n",
    "k2 = calcular_matriz_rigidez(E, A, L2, ang2)\n",
    "\n",
    "\n",
    "print(\"Matriz de rigidez do elemento 1 (k1):\")\n",
    "pprint(k1)\n",
    "\n",
    "print(\"\\nMatriz de rigidez do elemento 2 (k2):\")\n",
    "pprint(k2)"
   ]
  },
  {
   "cell_type": "markdown",
   "metadata": {},
   "source": [
    "### Montagem da Matriz Global"
   ]
  },
  {
   "cell_type": "code",
   "execution_count": 229,
   "metadata": {},
   "outputs": [
    {
     "name": "stdout",
     "output_type": "stream",
     "text": [
      "Matriz global de rigidez:\n",
      "⎡705600.0⋅√5   -352800.0⋅√5       -705600.0⋅√5        352800.0⋅√5       0       0⎤\n",
      "⎢                                                                                ⎥\n",
      "⎢-352800.0⋅√5  176400.0⋅√5         352800.0⋅√5        -176400.0⋅√5      0       0⎥\n",
      "⎢                                                                                ⎥\n",
      "⎢-705600.0⋅√5  352800.0⋅√5   705600.0⋅√5 + 2205000.0  -352800.0⋅√5  -2205000.0  0⎥\n",
      "⎢                                                                                ⎥\n",
      "⎢352800.0⋅√5   -176400.0⋅√5       -352800.0⋅√5        176400.0⋅√5       0       0⎥\n",
      "⎢                                                                                ⎥\n",
      "⎢     0             0              -2205000.0              0        2205000.0   0⎥\n",
      "⎢                                                                                ⎥\n",
      "⎣     0             0                   0                  0            0       0⎦\n"
     ]
    }
   ],
   "source": [
    "def montar_matriz_global(k1, k2):\n",
    "    # Inicialização da matriz global de rigidez (6x6) com zeros\n",
    "    matriz_global = Matrix.zeros(6, 6)\n",
    "    # Inserção da matriz de rigidez do elemento 1 na matriz global\n",
    "    matriz_global[0:4, 0:4] += k1\n",
    "    # Inserção da matriz de rigidez do elemento 2 na matriz global\n",
    "    matriz_global[2:6, 2:6] += k2\n",
    "    \n",
    "    return matriz_global\n",
    "\n",
    "matriz_global = montar_matriz_global(k1, k2)\n",
    "\n",
    "print(\"Matriz global de rigidez:\")\n",
    "pprint(matriz_global)"
   ]
  },
  {
   "cell_type": "markdown",
   "metadata": {},
   "source": [
    "### Resolução do Sistema"
   ]
  },
  {
   "cell_type": "code",
   "execution_count": 230,
   "metadata": {},
   "outputs": [
    {
     "name": "stdout",
     "output_type": "stream",
     "text": [
      "Deslocamentos nodais desconhecidos:\n",
      "⎡-0.00091⎤\n",
      "⎢        ⎥\n",
      "⎣-0.0043 ⎦\n"
     ]
    }
   ],
   "source": [
    "# Redução da matriz global para considerar as condições de contorno\n",
    "vetor_forcas_reduzido = Matrix([0, -1000])  # Força aplicada no nó correspondente\n",
    "\n",
    "def resolucao_sistema(matriz_global, vetor_forcas_conhecido):\n",
    "    # Como sabemos que os deslocamentos na parede são nulos, então cancelamos as linhas e colunas correspondentes, ficando assim apenas uma matriz reduzida\n",
    "    matriz_reduzida = matriz_global[2:4, 2:4]\n",
    "\n",
    "    # Resolvendo o sistema de equações para os deslocamentos nodais desconhecidos\n",
    "    deslocamentos = matriz_reduzida.LUsolve(vetor_forcas_conhecido)\n",
    "    return deslocamentos\n",
    "\n",
    "deslocamentos = resolucao_sistema(matriz_global, vetor_forcas_reduzido)\n",
    "\n",
    "# Exibindo os deslocamentos nodais desconhecidos\n",
    "print(\"Deslocamentos nodais desconhecidos:\")\n",
    "pprint(N(deslocamentos, 2))"
   ]
  },
  {
   "cell_type": "markdown",
   "metadata": {},
   "source": [
    "### Cálculo das Forças de Reação"
   ]
  },
  {
   "cell_type": "code",
   "execution_count": 231,
   "metadata": {},
   "outputs": [
    {
     "name": "stdout",
     "output_type": "stream",
     "text": [
      "Forças de reação nos apoios:\n",
      "⎡-2000.0⎤\n",
      "⎢       ⎥\n",
      "⎣1000.0 ⎦\n",
      "⎡   0   ⎤\n",
      "⎢       ⎥\n",
      "⎣-1000.0⎦\n",
      "⎡2000.0⎤\n",
      "⎢      ⎥\n",
      "⎣  0   ⎦\n"
     ]
    }
   ],
   "source": [
    "# Reconstrução do vetor de deslocamentos completo, incluindo os deslocamentos conhecidos (zeros nos apoios)\n",
    "def calcular_deslocamentos_completos(deslocamentos):\n",
    "  S = Matrix.zeros(6, 1)\n",
    "  S[2:4, 0] = deslocamentos\n",
    "  return S\n",
    "\n",
    "deslocamentos_completos = calcular_deslocamentos_completos(deslocamentos)\n",
    "\n",
    "def calcular_forcas_reacao(deslocamentos_completos, matriz_global):\n",
    "# Cálculo das forças de reação nos apoios utilizando a matriz global de rigidez\n",
    "  return np.dot(matriz_global, deslocamentos_completos)\n",
    "\n",
    "forcas_reacao = calcular_forcas_reacao(deslocamentos_completos, matriz_global)\n",
    "\n",
    "# Exibindo as forças de reação nos apoios\n",
    "print(\"Forças de reação nos apoios:\")\n",
    "pprint(N(Matrix(forcas_reacao[0:2])))  # Reações no nó 0\n",
    "pprint(N(Matrix(forcas_reacao[2:4])))  # Reações no nó 1\n",
    "pprint(N(Matrix(forcas_reacao[4:6])))  # Reações no nó 2"
   ]
  },
  {
   "cell_type": "markdown",
   "metadata": {},
   "source": [
    "### Transformação para Coordenadas Locais"
   ]
  },
  {
   "cell_type": "code",
   "execution_count": 232,
   "metadata": {},
   "outputs": [
    {
     "name": "stdout",
     "output_type": "stream",
     "text": [
      "Deslocamentos em coordenadas locais para o elemento 1:\n",
      "⎡   0   ⎤\n",
      "⎢       ⎥\n",
      "⎢   0   ⎥\n",
      "⎢       ⎥\n",
      "⎢0.0011 ⎥\n",
      "⎢       ⎥\n",
      "⎣-0.0035⎦\n",
      "\n",
      "Deslocamentos em coordenadas locais para o elemento 2:\n",
      "⎡-0.00091⎤\n",
      "⎢        ⎥\n",
      "⎢-0.0043 ⎥\n",
      "⎢        ⎥\n",
      "⎢   0    ⎥\n",
      "⎢        ⎥\n",
      "⎣   0    ⎦\n"
     ]
    }
   ],
   "source": [
    "# Matriz de transformação para o elemento 1\n",
    "def calcular_matriz_de_rotacao(angulo):\n",
    "    T = Matrix([\n",
    "        [cos(angulo), sin(angulo), 0, 0],\n",
    "        [sin(angulo), cos(angulo), 0, 0],\n",
    "        [0, 0, cos(angulo), sin(angulo)],\n",
    "        [0, 0, sin(angulo), cos(angulo)]\n",
    "    ])\n",
    "    return T\n",
    "# Matriz de transformação para o elemento 2\n",
    "T1 = calcular_matriz_de_rotacao(ang1)\n",
    "T2 = calcular_matriz_de_rotacao(ang2)\n",
    "\n",
    "# Transformação dos deslocamentos globais para coordenadas locais\n",
    "deslocamentos_locais_1 = T1 * deslocamentos_completos[0:4, 0]\n",
    "deslocamentos_locais_2 = T2 * deslocamentos_completos[2:6, 0]\n",
    "\n",
    "# Exibindo os deslocamentos transformados para coordenadas locais\n",
    "print(\"Deslocamentos em coordenadas locais para o elemento 1:\")\n",
    "pprint(N(deslocamentos_locais_1, 2))\n",
    "\n",
    "print(\"\\nDeslocamentos em coordenadas locais para o elemento 2:\")\n",
    "pprint(N(deslocamentos_locais_2, 2))"
   ]
  },
  {
   "cell_type": "markdown",
   "metadata": {},
   "source": [
    "### Cálculo das Forças Axiais"
   ]
  },
  {
   "cell_type": "code",
   "execution_count": 233,
   "metadata": {},
   "outputs": [
    {
     "name": "stdout",
     "output_type": "stream",
     "text": [
      "Forças axiais no elemento 1:\n",
      "⎡-2236.068⎤\n",
      "⎢         ⎥\n",
      "⎢    0    ⎥\n",
      "⎢         ⎥\n",
      "⎢2236.068 ⎥\n",
      "⎢         ⎥\n",
      "⎣    0    ⎦\n",
      "\n",
      "Forças axiais no elemento 2:\n",
      "⎡-2000.0⎤\n",
      "⎢       ⎥\n",
      "⎢   0   ⎥\n",
      "⎢       ⎥\n",
      "⎢2000.0 ⎥\n",
      "⎢       ⎥\n",
      "⎣   0   ⎦\n"
     ]
    }
   ],
   "source": [
    "# Matriz de forças-deslocamentos local para cálculo das forças axiais\n",
    "def calcular_forcas_axiais(EAKL, deslocamento_local):\n",
    "    matriz_forcas_deslocamento = Matrix([\n",
    "        [1, 0, -1, 0],\n",
    "        [0, 0, 0, 0],\n",
    "        [-1, 0, 1, 0],\n",
    "        [0, 0, 0, 0]\n",
    "    ])\n",
    "    return EAKL * matriz_forcas_deslocamento * deslocamento_local\n",
    "\n",
    "# Cálculo das forças axiais no elemento 1\n",
    "forcas_axiais_1 = calcular_forcas_axiais(EAKL1, deslocamentos_locais_1)\n",
    "print(\"Forças axiais no elemento 1:\")\n",
    "pprint(N(forcas_axiais_1, 7))\n",
    "\n",
    "# Cálculo das forças axiais no elemento 2\n",
    "forcas_axiais_2 = calcular_forcas_axiais(EAKL2, deslocamentos_locais_2)\n",
    "print(\"\\nForças axiais no elemento 2:\")\n",
    "pprint(N(forcas_axiais_2))"
   ]
  },
  {
   "cell_type": "markdown",
   "metadata": {},
   "source": [
    "### Cálculo das Tensões"
   ]
  },
  {
   "cell_type": "code",
   "execution_count": 234,
   "metadata": {},
   "outputs": [
    {
     "name": "stdout",
     "output_type": "stream",
     "text": [
      "Tensão no elemento 1 (Pa):\n",
      "35493142.50\n",
      "\n",
      "Tensão no elemento 2 (Pa):\n",
      "-31746031.75\n"
     ]
    }
   ],
   "source": [
    "from sympy import N  # Ensure sympy.N is used for numerical evaluation\n",
    "\n",
    "# Cálculo das tensões no elemento 1\n",
    "tensao_1 = (forcas_axiais_1[2, 0] + forcas_axiais_1[3, 0]) / A\n",
    "print(\"Tensão no elemento 1 (Pa):\")\n",
    "print(N(tensao_1, 10))\n",
    "# Cálculo das tensões no elemento 2\n",
    "tensao_2 = (forcas_axiais_2[0, 0] + forcas_axiais_2[1, 0]) / A\n",
    "print(\"\\nTensão no elemento 2 (Pa):\")\n",
    "print(N(tensao_2, 10))"
   ]
  },
  {
   "cell_type": "markdown",
   "metadata": {},
   "source": [
    "### Cálculo da Massa e Volume"
   ]
  },
  {
   "cell_type": "code",
   "execution_count": 235,
   "metadata": {},
   "outputs": [
    {
     "name": "stdout",
     "output_type": "stream",
     "text": [
      "O volume da barra 1 é: 0.000141 m³\n",
      "O volume da barra 2 é: 0.000126 m³\n",
      "A massa da barra 1 é: 0.394442 kg\n",
      "A massa da barra 2 é: 0.352800 kg\n"
     ]
    }
   ],
   "source": [
    "# Densidade do material (kg/m³)\n",
    "densidade = 2800\n",
    "\n",
    "# Volume da seção transversal (m³)\n",
    "volume1 = A * L1 \n",
    "volume2 = A * L2\n",
    "print(f\"O volume da barra 1 é: {volume1:.6f} m³\")\n",
    "print(f\"O volume da barra 2 é: {volume2:.6f} m³\")\n",
    "\n",
    "massa1 = densidade * volume1\n",
    "massa2 = densidade * volume2\n",
    "print(f\"A massa da barra 1 é: {massa1:.6f} kg\")\n",
    "print(f\"A massa da barra 2 é: {massa2:.6f} kg\")"
   ]
  },
  {
   "cell_type": "markdown",
   "metadata": {},
   "source": [
    "# Otimização"
   ]
  },
  {
   "cell_type": "code",
   "execution_count": 236,
   "metadata": {},
   "outputs": [
    {
     "name": "stdout",
     "output_type": "stream",
     "text": [
      "1.18125e-9\n",
      "204.023\n"
     ]
    }
   ],
   "source": [
    "# Cálculo do momento de Inércia da seção transversal\n",
    "I = (0.012**4-0.009**4)/12\n",
    "pprint(N(I, 6))\n",
    "# Cálculo da força axial de compressão crítica\n",
    "Pcr = ((pi**2)*E*I)/(L2**2)\n",
    "pprint(N(Pcr, 6))"
   ]
  },
  {
   "cell_type": "markdown",
   "metadata": {},
   "source": [
    "Agora, calcularemos a força axial de compressão crítica com o coeficiente de segurança $1,2$"
   ]
  },
  {
   "cell_type": "code",
   "execution_count": 237,
   "metadata": {},
   "outputs": [
    {
     "name": "stdout",
     "output_type": "stream",
     "text": [
      "2400.000\n"
     ]
    }
   ],
   "source": [
    "forca_axial_seguranca = abs(forcas_axiais_2[0, 0]*1.2)\n",
    "pprint(N(forca_axial_seguranca, 7))"
   ]
  },
  {
   "cell_type": "markdown",
   "metadata": {},
   "source": [
    "$$P_{cr} = \\frac{\\pi^2EI}{L^2}$$\n",
    "$$2400 = \\frac{\\pi^2\\times 70 \\times 10^9 \\times I}{2^2}$$"
   ]
  },
  {
   "cell_type": "code",
   "execution_count": 238,
   "metadata": {},
   "outputs": [
    {
     "name": "stdout",
     "output_type": "stream",
     "text": [
      "O valor de I é: 1.389548e-8 m^4\n"
     ]
    }
   ],
   "source": [
    "I = (forca_axial_seguranca * L2**2) / (np.pi**2 * E)\n",
    "\n",
    "# Convert I to a numerical value for formatting\n",
    "I_numeric = N(I)\n",
    "print(f\"O valor de I é:\", end=\" \")\n",
    "print(N(I, 7), end = \" \")\n",
    "print(f\"m^4\")"
   ]
  },
  {
   "cell_type": "markdown",
   "metadata": {},
   "source": [
    "$$I = \\frac{a^4_e - a^4_i}{12} $$\n",
    "Reforçarei $a_e$ e manterei $a_i$\n",
    "$$I = \\frac{a^4_e - 0,009^4}{12} $$\n",
    "Calculando $a_e$"
   ]
  },
  {
   "cell_type": "code",
   "execution_count": 239,
   "metadata": {},
   "outputs": [
    {
     "name": "stdout",
     "output_type": "stream",
     "text": [
      "O valor de a_e é: 0.02040346 m\n"
     ]
    }
   ],
   "source": [
    "# Calculando a_e\n",
    "a_e = (12 * I + 0.009**4)**0.25\n",
    "print(f\"O valor de a_e é:\", end=\" \")\n",
    "print(N(a_e, 7), end = \" \")\n",
    "print(f\"m\")"
   ]
  },
  {
   "cell_type": "code",
   "execution_count": 243,
   "metadata": {},
   "outputs": [
    {
     "name": "stdout",
     "output_type": "stream",
     "text": [
      "Nova área da seção transversal (A):\n",
      "0.000335301236324943\n",
      "Nova matriz de rigidez do elemento 1 (k1):\n",
      "⎡8397271.20245769   -4198635.60122885  -8397271.20245769  4198635.60122885 ⎤\n",
      "⎢                                                                          ⎥\n",
      "⎢-4198635.60122885  2099317.80061442   4198635.60122885   -2099317.80061442⎥\n",
      "⎢                                                                          ⎥\n",
      "⎢-8397271.20245769  4198635.60122885   8397271.20245769   -4198635.60122885⎥\n",
      "⎢                                                                          ⎥\n",
      "⎣4198635.60122885   -2099317.80061442  -4198635.60122885  2099317.80061442 ⎦\n",
      "\n",
      "Nova matriz de rigidez do elemento 2 (k2):\n",
      "⎡11735543.271373   0  -11735543.271373  0⎤\n",
      "⎢                                        ⎥\n",
      "⎢       0          0         0          0⎥\n",
      "⎢                                        ⎥\n",
      "⎢-11735543.271373  0  11735543.271373   0⎥\n",
      "⎢                                        ⎥\n",
      "⎣       0          0         0          0⎦\n",
      "\n",
      "Nova matriz global de rigidez:\n",
      "⎡8397271.20245769   -4198635.60122885  -8397271.20245769  4198635.60122885          0          0⎤\n",
      "⎢                                                                                               ⎥\n",
      "⎢-4198635.60122885  2099317.80061442   4198635.60122885   -2099317.80061442         0          0⎥\n",
      "⎢                                                                                               ⎥\n",
      "⎢-8397271.20245769  4198635.60122885   20132814.4738307   -4198635.60122885  -11735543.271373  0⎥\n",
      "⎢                                                                                               ⎥\n",
      "⎢4198635.60122885   -2099317.80061442  -4198635.60122885  2099317.80061442          0          0⎥\n",
      "⎢                                                                                               ⎥\n",
      "⎢        0                  0          -11735543.271373           0          11735543.271373   0⎥\n",
      "⎢                                                                                               ⎥\n",
      "⎣        0                  0                  0                  0                 0          0⎦\n",
      "\n",
      "Novos deslocamentos nodais desconhecidos:\n",
      "⎡ -0.0001704224468993 ⎤\n",
      "⎢                     ⎥\n",
      "⎣-0.000817190113996953⎦\n",
      "\n",
      "Novas forças de reação nos apoios:\n",
      "⎡-2000.0⎤\n",
      "⎢       ⎥\n",
      "⎣1000.0 ⎦\n",
      "⎡   0   ⎤\n",
      "⎢       ⎥\n",
      "⎣-1000.0⎦\n",
      "⎡2000.0⎤\n",
      "⎢      ⎥\n",
      "⎣  0   ⎦\n",
      "\n",
      "Novas forças axiais no elemento 1:\n",
      "⎡-2236.06797749979⎤\n",
      "⎢                 ⎥\n",
      "⎢        0        ⎥\n",
      "⎢                 ⎥\n",
      "⎢2236.06797749979 ⎥\n",
      "⎢                 ⎥\n",
      "⎣        0        ⎦\n",
      "\n",
      "Novas forças axiais no elemento 2:\n",
      "⎡-2000.0⎤\n",
      "⎢       ⎥\n",
      "⎢   0   ⎥\n",
      "⎢       ⎥\n",
      "⎢2000.0 ⎥\n",
      "⎢       ⎥\n",
      "⎣   0   ⎦\n",
      "\n",
      "Nova tensão no elemento 1 (Pa):\n",
      "6668833.08277695\n",
      "\n",
      "Nova tensão no elemento 2 (Pa):\n",
      "-5964785.64147549\n",
      "\n",
      "Nova força axial de compressão crítica:\n",
      "2400.00000000000\n"
     ]
    }
   ],
   "source": [
    "# Atualizando a área da seção transversal com o novo a_e\n",
    "A = (a_e**2-0.009**2)\n",
    "\n",
    "# Recalculando as constantes de rigidez axial dos elementos\n",
    "EAKL1 = E * A / L1\n",
    "EAKL2 = E * A / L2\n",
    "\n",
    "# Recalculando as matrizes de rigidez dos elementos\n",
    "k1 = calcular_matriz_rigidez(E, A, L1, ang1)\n",
    "k2 = calcular_matriz_rigidez(E, A, L2, ang2)\n",
    "\n",
    "# Recalculando a matriz global de rigidez\n",
    "matriz_global = montar_matriz_global(k1, k2)\n",
    "\n",
    "# Recalculando os deslocamentos nodais desconhecidos\n",
    "deslocamentos = resolucao_sistema(matriz_global, vetor_forcas_reduzido)\n",
    "\n",
    "# Recalculando o vetor de deslocamentos completo\n",
    "deslocamentos_completos = calcular_deslocamentos_completos(deslocamentos)\n",
    "\n",
    "# Recalculando as forças de reação nos apoios\n",
    "forcas_reacao = calcular_forcas_reacao(deslocamentos_completos, matriz_global)\n",
    "\n",
    "# Recalculando os deslocamentos em coordenadas locais\n",
    "deslocamentos_locais_1 = T1 * deslocamentos_completos[0:4, 0]\n",
    "deslocamentos_locais_2 = T2 * deslocamentos_completos[2:6, 0]\n",
    "\n",
    "# Recalculando as forças axiais nos elementos\n",
    "forcas_axiais_1 = calcular_forcas_axiais(EAKL1, Matrix(deslocamentos_locais_1))\n",
    "forcas_axiais_2 = calcular_forcas_axiais(EAKL2, Matrix(deslocamentos_locais_2))\n",
    "\n",
    "# Recalculando as tensões nos elementos\n",
    "tensao_1 = (forcas_axiais_1[2] + forcas_axiais_1[3]) / A\n",
    "tensao_2 = (forcas_axiais_2[0] + forcas_axiais_2[1]) / A\n",
    "# Recalculando a força axial de compressão crítica\n",
    "Pcr = ((pi**2)*E*I)/(L2**2)\n",
    "\n",
    "# Exibindo os resultados recalculados\n",
    "print(\"Nova área da seção transversal (A):\")\n",
    "pprint(N(A))\n",
    "print(\"Nova matriz de rigidez do elemento 1 (k1):\")\n",
    "pprint(N(k1))\n",
    "print(\"\\nNova matriz de rigidez do elemento 2 (k2):\")\n",
    "pprint(N(k2))\n",
    "print(\"\\nNova matriz global de rigidez:\")\n",
    "pprint(N(matriz_global))\n",
    "print(\"\\nNovos deslocamentos nodais desconhecidos:\")\n",
    "pprint(N(deslocamentos))\n",
    "print(\"\\nNovas forças de reação nos apoios:\")\n",
    "pprint((N(Matrix(forcas_reacao[0:2, 0]))))  # Reações no nó 0\n",
    "pprint((N(Matrix(forcas_reacao[2:4, 0]))))  # Reações no nó 1\n",
    "pprint((N(Matrix(forcas_reacao[4:6, 0]))))  # Reações no nó 2\n",
    "print(\"\\nNovas forças axiais no elemento 1:\")\n",
    "pprint(N(forcas_axiais_1))\n",
    "print(\"\\nNovas forças axiais no elemento 2:\")\n",
    "pprint(N(forcas_axiais_2))\n",
    "print(\"\\nNova tensão no elemento 1 (Pa):\")\n",
    "pprint(N(tensao_1))\n",
    "print(\"\\nNova tensão no elemento 2 (Pa):\")\n",
    "pprint(N(tensao_2))\n",
    "print(\"\\nNova força axial de compressão crítica:\")\n",
    "pprint(N(Pcr))"
   ]
  },
  {
   "cell_type": "markdown",
   "metadata": {},
   "source": [
    "### Tensão de escoamento\n"
   ]
  },
  {
   "cell_type": "markdown",
   "metadata": {},
   "source": [
    "A tensão de escoamento com coeficiente de segurança $2$ é dada por"
   ]
  },
  {
   "cell_type": "code",
   "execution_count": 241,
   "metadata": {},
   "outputs": [
    {
     "name": "stdout",
     "output_type": "stream",
     "text": [
      "13337666.1655539\n"
     ]
    }
   ],
   "source": [
    "Sy = tensao_1 * 2\n",
    "pprint(N(Sy))"
   ]
  },
  {
   "cell_type": "markdown",
   "metadata": {},
   "source": [
    "Como podemos ver, a tensão do elemento 1 está dentro da normas de segurança ($\\sigma _y = 70 \\times 10^6$ Pa)"
   ]
  },
  {
   "cell_type": "markdown",
   "metadata": {},
   "source": [
    "$$$$"
   ]
  },
  {
   "cell_type": "code",
   "execution_count": 242,
   "metadata": {},
   "outputs": [
    {
     "name": "stdout",
     "output_type": "stream",
     "text": [
      "O volume da barra 1 é: 0.000750 m³\n",
      "O volume da barra 2 é: 0.000671 m³\n",
      "A massa da barra 1 é: 2.099318 kg\n",
      "A massa da barra 2 é: 1.877687 kg\n"
     ]
    }
   ],
   "source": [
    "# Densidade do material (kg/m³)\n",
    "densidade = 2800\n",
    "\n",
    "# Volume da seção transversal (m³)\n",
    "volume1 = A * L1 \n",
    "volume2 = A * L2\n",
    "print(f\"O volume da barra 1 é: {volume1:.6f} m³\")\n",
    "print(f\"O volume da barra 2 é: {volume2:.6f} m³\")\n",
    "\n",
    "massa1 = densidade * volume1\n",
    "massa2 = densidade * volume2\n",
    "print(f\"A massa da barra 1 é: {massa1:.6f} kg\")\n",
    "print(f\"A massa da barra 2 é: {massa2:.6f} kg\")"
   ]
  }
 ],
 "metadata": {
  "kernelspec": {
   "display_name": "Python 3",
   "language": "python",
   "name": "python3"
  },
  "language_info": {
   "codemirror_mode": {
    "name": "ipython",
    "version": 3
   },
   "file_extension": ".py",
   "mimetype": "text/x-python",
   "name": "python",
   "nbconvert_exporter": "python",
   "pygments_lexer": "ipython3",
   "version": "3.13.2"
  }
 },
 "nbformat": 4,
 "nbformat_minor": 2
}
