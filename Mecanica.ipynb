{
 "cells": [
  {
   "cell_type": "markdown",
   "metadata": {},
   "source": [
    "### Definição de Constantes e Parâmetros\n",
    "\n",
    "Nesta seção, definiremos as propriedades e dimensão dos elementos estruturais.\n",
    "- Módulo de Elasticidade: Mede a rigidez do material. É definido como a razão entre a tensão aplicada e deformação sofrida pelo material. $$[\\frac{Tensão}{Deforma\\c{c}ão}] = N/m^2 = Pa$$.\n",
    "- Área de Seção Transversal: Área da seção transversal dos elementos, definida como $$Comprimento_{externo}^2 - Comprimento_{Interno}^2,$$ pois todos os elementos possuem como seção transversal quadrados ocos. $$[Área \\ da \\ se\\c{c}ão \\ transversal] = m^2$$\n",
    "- Comprimento: Distância entre dois nós da estrutura. $$[Comprimento] = m$$\n",
    "- Ângulo: Orientação dos elementos em relação ao sistema de coordenadas globais. $$[Ângulo] = \\frac{m}{m} = rad$$"
   ]
  },
  {
   "cell_type": "code",
   "execution_count": 17,
   "metadata": {},
   "outputs": [],
   "source": [
    "import numpy as np\n",
    "from sympy import *\n",
    "from IPython.display import Markdown as md\n",
    "np.set_printoptions(linewidth=200)\n",
    "from sympy import init_printing\n",
    "from IPython.display import Markdown as md, display\n",
    "init_printing(num_columns=100)\n",
    "\n",
    "\n",
    "\n",
    "\n",
    "# Definição de Constantes e Parâmetros\n",
    "E = Symbol('E')\n",
    "A = Symbol('A')\n",
    "L1 = Symbol('L1')\n",
    "L2 = Symbol('L2')\n",
    "ang1 = Symbol('ang1')\n",
    "ang2 = Symbol('ang2')\n",
    "# Módulo de elasticidade (Pa)\n",
    "E = 70e9\n",
    "\n",
    "# Área da seção transversal (m²)\n",
    "A = 0.000063\n",
    "\n",
    "# Comprimentos dos elementos (m)\n",
    "L1 = sqrt(5)  # Comprimento do elemento 1\n",
    "L2 = 2           # Comprimento do elemento 2\n",
    "\n",
    "# Ângulos dos elementos (radianos)\n",
    "ang1 = atan(-0.5)  # Ângulo do elemento 1\n",
    "ang2 = 0                # Ângulo do elemento 2"
   ]
  },
  {
   "cell_type": "markdown",
   "metadata": {},
   "source": [
    "### Cálculo das Matrizes de Rigidez"
   ]
  },
  {
   "cell_type": "markdown",
   "metadata": {},
   "source": [
    "$$\n",
    "  \\frac{EA}{L}\n",
    "  \\begin{bmatrix}\n",
    "    \\cos^2{\\alpha}            & \\cos{\\alpha}\\sin{\\alpha}  & -\\cos^2{\\alpha}           & -\\cos{\\alpha}\\sin{\\alpha} \\\\\n",
    "    \\cos{\\alpha}\\sin{\\alpha}  & \\sin^2{\\alpha}            & -\\cos{\\alpha}\\sin{\\alpha} & -\\sin^2{\\alpha}           \\\\\n",
    "    -\\cos^2{\\alpha}           & -\\cos{\\alpha}\\sin{\\alpha} & \\cos^2{\\alpha}            & \\cos{\\alpha}\\sin{\\alpha}  \\\\\n",
    "    -\\cos{\\alpha}\\sin{\\alpha} & -\\sin^2{\\alpha}            & \\cos{\\alpha}\\sin{\\alpha}  & \\sin^2{\\alpha}           \\\\\n",
    "  \\end{bmatrix}\n",
    "$$\n",
    "Essa é a matriz de rigidez das treliças 2D no Sistema Global de Coordenadas"
   ]
  },
  {
   "cell_type": "code",
   "execution_count": 18,
   "metadata": {},
   "outputs": [
    {
     "name": "stdout",
     "output_type": "stream",
     "text": [
      "Matriz de rigidez do elemento 1 (k1):\n"
     ]
    },
    {
     "data": {
      "text/markdown": [
       "$\\left[\\begin{matrix}705600.0 \\sqrt{5} & - 352800.0 \\sqrt{5} & - 705600.0 \\sqrt{5} & 352800.0 \\sqrt{5}\\\\- 352800.0 \\sqrt{5} & 176400.0 \\sqrt{5} & 352800.0 \\sqrt{5} & - 176400.0 \\sqrt{5}\\\\- 705600.0 \\sqrt{5} & 352800.0 \\sqrt{5} & 705600.0 \\sqrt{5} & - 352800.0 \\sqrt{5}\\\\352800.0 \\sqrt{5} & - 176400.0 \\sqrt{5} & - 352800.0 \\sqrt{5} & 176400.0 \\sqrt{5}\\end{matrix}\\right]$"
      ],
      "text/plain": [
       "<IPython.core.display.Markdown object>"
      ]
     },
     "metadata": {},
     "output_type": "display_data"
    },
    {
     "name": "stdout",
     "output_type": "stream",
     "text": [
      "\n",
      "Matriz de rigidez do elemento 2 (k2):\n"
     ]
    },
    {
     "data": {
      "text/markdown": [
       "$\\left[\\begin{matrix}2205000.0 & 0 & -2205000.0 & 0\\\\0 & 0 & 0 & 0\\\\-2205000.0 & 0 & 2205000.0 & 0\\\\0 & 0 & 0 & 0\\end{matrix}\\right]$"
      ],
      "text/plain": [
       "<IPython.core.display.Markdown object>"
      ]
     },
     "metadata": {},
     "output_type": "display_data"
    }
   ],
   "source": [
    "# Constantes de rigidez axial dos elementos\n",
    "EAKL1 = E * A / L1  # Rigidez axial do elemento 1\n",
    "EAKL2 = E * A / L2  # Rigidez axial do elemento 2\n",
    "# Matriz de Rigidez\n",
    "def calcular_matriz_rigidez(E, A, L, angulo):\n",
    "    EA_L = E * A / L\n",
    "    c = cos(angulo)\n",
    "    s = sin(angulo)\n",
    "    return EA_L * Matrix([\n",
    "        [c**2, c*s, -c**2, -c*s],\n",
    "        [c*s, s**2, -c*s, -s**2],\n",
    "        [-c**2, -c*s, c**2, c*s],\n",
    "        [-c*s, -s**2, c*s, s**2]\n",
    "    ])\n",
    "\n",
    "# Matriz de rigidez do elemento 1\n",
    "k1 = calcular_matriz_rigidez(E, A, L1, ang1)\n",
    "\n",
    "# Matriz de rigidez do elemento 2\n",
    "k2 = calcular_matriz_rigidez(E, A, L2, ang2)\n",
    "\n",
    "\n",
    "print(\"Matriz de rigidez do elemento 1 (k1):\")\n",
    "display(md(f\"${latex(k1)}$\"))\n",
    "\n",
    "print(\"\\nMatriz de rigidez do elemento 2 (k2):\")\n",
    "display(md(f\"${latex(k2)}$\"))"
   ]
  },
  {
   "cell_type": "markdown",
   "metadata": {},
   "source": [
    "### Montagem da Matriz Global"
   ]
  },
  {
   "cell_type": "code",
   "execution_count": 19,
   "metadata": {},
   "outputs": [
    {
     "name": "stdout",
     "output_type": "stream",
     "text": [
      "Matriz global de rigidez:\n"
     ]
    },
    {
     "data": {
      "text/markdown": [
       "$\\left[\\begin{matrix}705600.0 \\sqrt{5} & - 352800.0 \\sqrt{5} & - 705600.0 \\sqrt{5} & 352800.0 \\sqrt{5} & 0 & 0\\\\- 352800.0 \\sqrt{5} & 176400.0 \\sqrt{5} & 352800.0 \\sqrt{5} & - 176400.0 \\sqrt{5} & 0 & 0\\\\- 705600.0 \\sqrt{5} & 352800.0 \\sqrt{5} & 705600.0 \\sqrt{5} + 2205000.0 & - 352800.0 \\sqrt{5} & -2205000.0 & 0\\\\352800.0 \\sqrt{5} & - 176400.0 \\sqrt{5} & - 352800.0 \\sqrt{5} & 176400.0 \\sqrt{5} & 0 & 0\\\\0 & 0 & -2205000.0 & 0 & 2205000.0 & 0\\\\0 & 0 & 0 & 0 & 0 & 0\\end{matrix}\\right]$"
      ],
      "text/plain": [
       "<IPython.core.display.Markdown object>"
      ]
     },
     "metadata": {},
     "output_type": "display_data"
    }
   ],
   "source": [
    "def montar_matriz_global(k1, k2):\n",
    "    # Inicialização da matriz global de rigidez (6x6) com zeros\n",
    "    matriz_global = Matrix.zeros(6, 6)\n",
    "    # Inserção da matriz de rigidez do elemento 1 na matriz global\n",
    "    matriz_global[0:4, 0:4] += k1\n",
    "    # Inserção da matriz de rigidez do elemento 2 na matriz global\n",
    "    matriz_global[2:6, 2:6] += k2\n",
    "    \n",
    "    return matriz_global\n",
    "\n",
    "matriz_global = montar_matriz_global(k1, k2)\n",
    "\n",
    "print(\"Matriz global de rigidez:\")\n",
    "display(md(f\"${latex(matriz_global)}$\"))"
   ]
  },
  {
   "cell_type": "markdown",
   "metadata": {},
   "source": [
    "### Resolução do Sistema"
   ]
  },
  {
   "cell_type": "code",
   "execution_count": 20,
   "metadata": {},
   "outputs": [
    {
     "name": "stdout",
     "output_type": "stream",
     "text": [
      "Deslocamentos nodais desconhecidos:\n"
     ]
    },
    {
     "data": {
      "text/markdown": [
       "$\\left[\\begin{matrix}-0.000907\\\\-0.00435\\end{matrix}\\right]$"
      ],
      "text/plain": [
       "<IPython.core.display.Markdown object>"
      ]
     },
     "metadata": {},
     "output_type": "display_data"
    }
   ],
   "source": [
    "# Redução da matriz global para considerar as condições de contorno\n",
    "vetor_forcas_reduzido = Matrix([0, -1000])  # Força aplicada no nó correspondente\n",
    "\n",
    "def resolucao_sistema(matriz_global, vetor_forcas_conhecido):\n",
    "    # Como sabemos que os deslocamentos na parede são nulos, então cancelamos as linhas e colunas correspondentes, ficando assim apenas uma matriz reduzida\n",
    "    matriz_reduzida = matriz_global[2:4, 2:4]\n",
    "\n",
    "    # Resolvendo o sistema de equações para os deslocamentos nodais desconhecidos\n",
    "    deslocamentos = matriz_reduzida.LUsolve(vetor_forcas_conhecido)\n",
    "    return deslocamentos\n",
    "\n",
    "deslocamentos = resolucao_sistema(matriz_global, vetor_forcas_reduzido)\n",
    "\n",
    "# Exibindo os deslocamentos nodais desconhecidos\n",
    "print(\"Deslocamentos nodais desconhecidos:\")\n",
    "display(md(f\"${latex(N(deslocamentos, 3))}$\"))"
   ]
  },
  {
   "cell_type": "markdown",
   "metadata": {},
   "source": [
    "### Cálculo das Forças de Reação"
   ]
  },
  {
   "cell_type": "code",
   "execution_count": 21,
   "metadata": {},
   "outputs": [
    {
     "name": "stdout",
     "output_type": "stream",
     "text": [
      "Forças de reação nos apoios:\n"
     ]
    },
    {
     "data": {
      "text/markdown": [
       "$\\left[\\begin{matrix}-2000.0\\\\1000.0\\end{matrix}\\right]$"
      ],
      "text/plain": [
       "<IPython.core.display.Markdown object>"
      ]
     },
     "metadata": {},
     "output_type": "display_data"
    },
    {
     "data": {
      "text/markdown": [
       "$\\left[\\begin{matrix}0\\\\-1000.0\\end{matrix}\\right]$"
      ],
      "text/plain": [
       "<IPython.core.display.Markdown object>"
      ]
     },
     "metadata": {},
     "output_type": "display_data"
    },
    {
     "data": {
      "text/markdown": [
       "$\\left[\\begin{matrix}2000.0\\\\0\\end{matrix}\\right]$"
      ],
      "text/plain": [
       "<IPython.core.display.Markdown object>"
      ]
     },
     "metadata": {},
     "output_type": "display_data"
    }
   ],
   "source": [
    "# Reconstrução do vetor de deslocamentos completo, incluindo os deslocamentos conhecidos (zeros nos apoios)\n",
    "def calcular_deslocamentos_completos(deslocamentos):\n",
    "  S = Matrix.zeros(6, 1)\n",
    "  S[2:4, 0] = deslocamentos\n",
    "  return S\n",
    "\n",
    "deslocamentos_completos = calcular_deslocamentos_completos(deslocamentos)\n",
    "\n",
    "def calcular_forcas_reacao(deslocamentos_completos, matriz_global):\n",
    "# Cálculo das forças de reação nos apoios utilizando a matriz global de rigidez\n",
    "  return np.dot(matriz_global, deslocamentos_completos)\n",
    "\n",
    "forcas_reacao = calcular_forcas_reacao(deslocamentos_completos, matriz_global)\n",
    "\n",
    "# Exibindo as forças de reação nos apoios\n",
    "print(\"Forças de reação nos apoios:\")\n",
    "display(md(f\"${latex(N(Matrix(forcas_reacao[0:2])))}$\")) # Reações no nó 0\n",
    "display(md(f\"${latex(N(Matrix(forcas_reacao[2:4])))}$\")) # Reações no nó 1\n",
    "display(md(f\"${latex(N(Matrix(forcas_reacao[4:6])))}$\")) # Reações no nó 2\n",
    "\n"
   ]
  },
  {
   "cell_type": "markdown",
   "metadata": {},
   "source": [
    "### Transformação para Coordenadas Locais"
   ]
  },
  {
   "cell_type": "code",
   "execution_count": 22,
   "metadata": {},
   "outputs": [
    {
     "name": "stdout",
     "output_type": "stream",
     "text": [
      "Deslocamentos em coordenadas locais para o elemento 1:\n"
     ]
    },
    {
     "data": {
      "text/markdown": [
       "$\\left[\\begin{matrix}0\\\\0\\\\0.0011\\\\-0.0035\\end{matrix}\\right]$"
      ],
      "text/plain": [
       "<IPython.core.display.Markdown object>"
      ]
     },
     "metadata": {},
     "output_type": "display_data"
    },
    {
     "name": "stdout",
     "output_type": "stream",
     "text": [
      "\n",
      "Deslocamentos em coordenadas locais para o elemento 2:\n"
     ]
    },
    {
     "data": {
      "text/markdown": [
       "$\\left[\\begin{matrix}-0.00091\\\\-0.0043\\\\0\\\\0\\end{matrix}\\right]$"
      ],
      "text/plain": [
       "<IPython.core.display.Markdown object>"
      ]
     },
     "metadata": {},
     "output_type": "display_data"
    }
   ],
   "source": [
    "# Matriz de transformação para o elemento 1\n",
    "def calcular_matriz_de_rotacao(angulo):\n",
    "    T = Matrix([\n",
    "        [cos(angulo), sin(angulo), 0, 0],\n",
    "        [sin(angulo), cos(angulo), 0, 0],\n",
    "        [0, 0, cos(angulo), sin(angulo)],\n",
    "        [0, 0, sin(angulo), cos(angulo)]\n",
    "    ])\n",
    "    return T\n",
    "# Matriz de transformação para o elemento 2\n",
    "T1 = calcular_matriz_de_rotacao(ang1)\n",
    "T2 = calcular_matriz_de_rotacao(ang2)\n",
    "\n",
    "# Transformação dos deslocamentos globais para coordenadas locais\n",
    "deslocamentos_locais_1 = T1 * deslocamentos_completos[0:4, 0]\n",
    "deslocamentos_locais_2 = T2 * deslocamentos_completos[2:6, 0]\n",
    "\n",
    "# Exibindo os deslocamentos transformados para coordenadas locais\n",
    "print(\"Deslocamentos em coordenadas locais para o elemento 1:\")\n",
    "display(md(f\"${latex(N(deslocamentos_locais_1, 2))}$\"))\n",
    "\n",
    "print(\"\\nDeslocamentos em coordenadas locais para o elemento 2:\")\n",
    "display(md(f\"${latex(N(deslocamentos_locais_2, 2))}$\"))"
   ]
  },
  {
   "cell_type": "markdown",
   "metadata": {},
   "source": [
    "### Cálculo das Forças Axiais"
   ]
  },
  {
   "cell_type": "code",
   "execution_count": 23,
   "metadata": {},
   "outputs": [
    {
     "name": "stdout",
     "output_type": "stream",
     "text": [
      "Forças axiais no elemento 1:\n"
     ]
    },
    {
     "data": {
      "text/markdown": [
       "$\\left[\\begin{matrix}-2236.068\\\\0\\\\2236.068\\\\0\\end{matrix}\\right]$"
      ],
      "text/plain": [
       "<IPython.core.display.Markdown object>"
      ]
     },
     "metadata": {},
     "output_type": "display_data"
    },
    {
     "name": "stdout",
     "output_type": "stream",
     "text": [
      "\n",
      "Forças axiais no elemento 2:\n"
     ]
    },
    {
     "data": {
      "text/markdown": [
       "$\\left[\\begin{matrix}-2000.0\\\\0\\\\2000.0\\\\0\\end{matrix}\\right]$"
      ],
      "text/plain": [
       "<IPython.core.display.Markdown object>"
      ]
     },
     "metadata": {},
     "output_type": "display_data"
    }
   ],
   "source": [
    "# Matriz de forças-deslocamentos local para cálculo das forças axiais\n",
    "def calcular_forcas_axiais(EAKL, deslocamento_local):\n",
    "    matriz_forcas_deslocamento = Matrix([\n",
    "        [1, 0, -1, 0],\n",
    "        [0, 0, 0, 0],\n",
    "        [-1, 0, 1, 0],\n",
    "        [0, 0, 0, 0]\n",
    "    ])\n",
    "    return EAKL * matriz_forcas_deslocamento * deslocamento_local\n",
    "\n",
    "# Cálculo das forças axiais no elemento 1\n",
    "forcas_axiais_1 = calcular_forcas_axiais(EAKL1, deslocamentos_locais_1)\n",
    "print(\"Forças axiais no elemento 1:\")\n",
    "display(md(f\"${latex(N(forcas_axiais_1, 7))}$\"))\n",
    "\n",
    "\n",
    "# Cálculo das forças axiais no elemento 2\n",
    "forcas_axiais_2 = calcular_forcas_axiais(EAKL2, deslocamentos_locais_2)\n",
    "print(\"\\nForças axiais no elemento 2:\")\n",
    "display(md(f\"${latex(N(forcas_axiais_2))}$\"))"
   ]
  },
  {
   "cell_type": "markdown",
   "metadata": {},
   "source": [
    "### Cálculo das Tensões"
   ]
  },
  {
   "cell_type": "code",
   "execution_count": 24,
   "metadata": {},
   "outputs": [
    {
     "data": {
      "text/markdown": [
       "Tensão no elemento 1: $35493142.5$ $\\mathtt{\\text{Pa}}$"
      ],
      "text/plain": [
       "<IPython.core.display.Markdown object>"
      ]
     },
     "metadata": {},
     "output_type": "display_data"
    },
    {
     "data": {
      "text/markdown": [
       "Tensão no elemento 2: $-31746031.75$ $\\mathtt{\\text{Pa}}$"
      ],
      "text/plain": [
       "<IPython.core.display.Markdown object>"
      ]
     },
     "metadata": {},
     "output_type": "display_data"
    }
   ],
   "source": [
    "from sympy import N  # Ensure sympy.N is used for numerical evaluation\n",
    "\n",
    "# Cálculo das tensões no elemento 1\n",
    "tensao_1 = (forcas_axiais_1[2, 0] + forcas_axiais_1[3, 0]) / A\n",
    "display(md(f\"Tensão no elemento 1: ${latex(N(tensao_1, 10))}$ ${latex(\"Pa\")}$\"))\n",
    "# Cálculo das tensões no elemento 2\n",
    "tensao_2 = (forcas_axiais_2[0, 0] + forcas_axiais_2[1, 0]) / A\n",
    "display(md(f\"Tensão no elemento 2: ${latex(N(tensao_2, 10))}$ ${latex(\"Pa\")}$\"))"
   ]
  },
  {
   "cell_type": "markdown",
   "metadata": {},
   "source": [
    "### Cálculo da Massa e Volume"
   ]
  },
  {
   "cell_type": "code",
   "execution_count": 25,
   "metadata": {},
   "outputs": [
    {
     "data": {
      "text/markdown": [
       "O volume da barra 1 é: $6.3 \\cdot 10^{-5} \\sqrt{5}$ $\\mathtt{\\text{m³}}$"
      ],
      "text/plain": [
       "<IPython.core.display.Markdown object>"
      ]
     },
     "metadata": {},
     "output_type": "display_data"
    },
    {
     "data": {
      "text/markdown": [
       "O volume da barra 2 é: $0.000126$ $\\mathtt{\\text{m³}}$"
      ],
      "text/plain": [
       "<IPython.core.display.Markdown object>"
      ]
     },
     "metadata": {},
     "output_type": "display_data"
    },
    {
     "data": {
      "text/markdown": [
       "A massa da barra 1 é: $0.1764 \\sqrt{5}$ $\\mathtt{\\text{kg}}$"
      ],
      "text/plain": [
       "<IPython.core.display.Markdown object>"
      ]
     },
     "metadata": {},
     "output_type": "display_data"
    },
    {
     "data": {
      "text/markdown": [
       "A massa da barra 2 é: $0.3528$ $\\mathtt{\\text{kg}}$"
      ],
      "text/plain": [
       "<IPython.core.display.Markdown object>"
      ]
     },
     "metadata": {},
     "output_type": "display_data"
    }
   ],
   "source": [
    "# Densidade do material (kg/m³)\n",
    "densidade = 2800\n",
    "\n",
    "# Volume da seção transversal (m³)\n",
    "volume1 = A * L1 \n",
    "volume2 = A * L2\n",
    "display(md(f\"O volume da barra 1 é: ${latex(volume1)}$ ${latex(\"m³\")}$\"))\n",
    "display(md(f\"O volume da barra 2 é: ${latex(volume2)}$ ${latex(\"m³\")}$\"))\n",
    "\n",
    "massa1 = densidade * volume1\n",
    "massa2 = densidade * volume2\n",
    "display(md(f\"A massa da barra 1 é: ${latex(massa1)}$ ${latex(\"kg\")}$\"))\n",
    "display(md(f\"A massa da barra 2 é: ${latex(massa2)}$ ${latex(\"kg\")}$\"))"
   ]
  },
  {
   "cell_type": "markdown",
   "metadata": {},
   "source": [
    "# Otimização"
   ]
  },
  {
   "cell_type": "code",
   "execution_count": 26,
   "metadata": {},
   "outputs": [
    {
     "data": {
      "text/markdown": [
       "$\\mathtt{\\text{I =}}$ $1.18125 \\cdot 10^{-9}$ $\\mathtt{\\text{m⁴}}$"
      ],
      "text/plain": [
       "<IPython.core.display.Markdown object>"
      ]
     },
     "metadata": {},
     "output_type": "display_data"
    },
    {
     "data": {
      "text/markdown": [
       "$P_{cr} = $ $204.023$ $\\mathtt{\\text{N}}$"
      ],
      "text/plain": [
       "<IPython.core.display.Markdown object>"
      ]
     },
     "metadata": {},
     "output_type": "display_data"
    }
   ],
   "source": [
    "# Cálculo do momento de Inércia da seção transversal\n",
    "I = (0.012**4-0.009**4)/12\n",
    "display(md(f\"${latex(\"I =\")}$ ${latex(N(I, 6))}$ ${latex(\"m⁴\")}$\"))\n",
    "# Cálculo da força axial de compressão crítica\n",
    "Pcr = ((pi**2)*E*I)/(L2**2)\n",
    "display(md(f\"$P_{{cr}} = $ ${latex(N(Pcr, 6))}$ ${latex(\"N\")}$\"))"
   ]
  },
  {
   "cell_type": "markdown",
   "metadata": {},
   "source": [
    "Agora, calcularemos a força axial de compressão crítica com o coeficiente de segurança $1,2$"
   ]
  },
  {
   "cell_type": "code",
   "execution_count": 27,
   "metadata": {},
   "outputs": [
    {
     "data": {
      "text/markdown": [
       "$2400.0$ $\\mathtt{\\text{N}}$"
      ],
      "text/plain": [
       "<IPython.core.display.Markdown object>"
      ]
     },
     "metadata": {},
     "output_type": "display_data"
    }
   ],
   "source": [
    "forca_axial_seguranca = abs(forcas_axiais_2[0, 0]*1.2)\n",
    "display(md(f\"${latex(N(forca_axial_seguranca, 7))}$ ${latex(\"N\")}$\"))"
   ]
  },
  {
   "cell_type": "markdown",
   "metadata": {},
   "source": [
    "$$P_{cr} = \\frac{\\pi^2EI}{L^2}$$\n",
    "$$2400 = \\frac{\\pi^2\\times 70 \\times 10^9 \\times I}{2^2}$$"
   ]
  },
  {
   "cell_type": "code",
   "execution_count": 28,
   "metadata": {},
   "outputs": [
    {
     "data": {
      "text/markdown": [
       "$I_s =$ $1.389548 \\cdot 10^{-8}$ m⁴"
      ],
      "text/plain": [
       "<IPython.core.display.Markdown object>"
      ]
     },
     "metadata": {},
     "output_type": "display_data"
    }
   ],
   "source": [
    "I = (forca_axial_seguranca * L2**2) / (np.pi**2 * E)\n",
    "\n",
    "display(md(f\"$I_s =$ ${latex(N(I, 7))}$ m⁴\"))"
   ]
  },
  {
   "cell_type": "markdown",
   "metadata": {},
   "source": [
    "$$I = \\frac{a^4_e - a^4_i}{12} $$\n",
    "Reforçarei $a_e$ e manterei $a_i$\n",
    "$$I = \\frac{a^4_e - 0,009^4}{12} $$\n",
    "Calculando $a_e$"
   ]
  },
  {
   "cell_type": "code",
   "execution_count": 29,
   "metadata": {},
   "outputs": [
    {
     "data": {
      "text/markdown": [
       "$a_e =$ $0.02040346$ m"
      ],
      "text/plain": [
       "<IPython.core.display.Markdown object>"
      ]
     },
     "metadata": {},
     "output_type": "display_data"
    }
   ],
   "source": [
    "# Calculando a_e\n",
    "a_e = (12 * I + 0.009**4)**0.25\n",
    "display(md(f\"$a_e =$ ${latex(N(a_e, 7))}$ m\"))"
   ]
  },
  {
   "cell_type": "code",
   "execution_count": 30,
   "metadata": {},
   "outputs": [
    {
     "name": "stdout",
     "output_type": "stream",
     "text": [
      "Nova área da seção transversal (A):\n"
     ]
    },
    {
     "data": {
      "text/markdown": [
       "$0.0003353$ $\\mathtt{\\text{m²}}$"
      ],
      "text/plain": [
       "<IPython.core.display.Markdown object>"
      ]
     },
     "metadata": {},
     "output_type": "display_data"
    },
    {
     "name": "stdout",
     "output_type": "stream",
     "text": [
      "Nova matriz de rigidez do elemento 1 (k1):\n"
     ]
    },
    {
     "data": {
      "text/markdown": [
       "$\\left[\\begin{matrix}8397271.20245769 & -4198635.60122885 & -8397271.20245769 & 4198635.60122885\\\\-4198635.60122885 & 2099317.80061442 & 4198635.60122885 & -2099317.80061442\\\\-8397271.20245769 & 4198635.60122885 & 8397271.20245769 & -4198635.60122885\\\\4198635.60122885 & -2099317.80061442 & -4198635.60122885 & 2099317.80061442\\end{matrix}\\right]$"
      ],
      "text/plain": [
       "<IPython.core.display.Markdown object>"
      ]
     },
     "metadata": {},
     "output_type": "display_data"
    },
    {
     "name": "stdout",
     "output_type": "stream",
     "text": [
      "\n",
      "Nova matriz de rigidez do elemento 2 (k2):\n"
     ]
    },
    {
     "data": {
      "text/markdown": [
       "$\\left[\\begin{matrix}11735543.271373 & 0 & -11735543.271373 & 0\\\\0 & 0 & 0 & 0\\\\-11735543.271373 & 0 & 11735543.271373 & 0\\\\0 & 0 & 0 & 0\\end{matrix}\\right]$"
      ],
      "text/plain": [
       "<IPython.core.display.Markdown object>"
      ]
     },
     "metadata": {},
     "output_type": "display_data"
    },
    {
     "name": "stdout",
     "output_type": "stream",
     "text": [
      "\n",
      "Nova matriz global de rigidez:\n"
     ]
    },
    {
     "data": {
      "text/markdown": [
       "$\\left[\\begin{matrix}8397271.20245769 & -4198635.60122885 & -8397271.20245769 & 4198635.60122885 & 0 & 0\\\\-4198635.60122885 & 2099317.80061442 & 4198635.60122885 & -2099317.80061442 & 0 & 0\\\\-8397271.20245769 & 4198635.60122885 & 20132814.4738307 & -4198635.60122885 & -11735543.271373 & 0\\\\4198635.60122885 & -2099317.80061442 & -4198635.60122885 & 2099317.80061442 & 0 & 0\\\\0 & 0 & -11735543.271373 & 0 & 11735543.271373 & 0\\\\0 & 0 & 0 & 0 & 0 & 0\\end{matrix}\\right]$"
      ],
      "text/plain": [
       "<IPython.core.display.Markdown object>"
      ]
     },
     "metadata": {},
     "output_type": "display_data"
    },
    {
     "name": "stdout",
     "output_type": "stream",
     "text": [
      "\n",
      "Novos deslocamentos nodais desconhecidos:\n"
     ]
    },
    {
     "data": {
      "text/markdown": [
       "$\\left[\\begin{matrix}-0.0001704224468993\\\\-0.000817190113996953\\end{matrix}\\right]$"
      ],
      "text/plain": [
       "<IPython.core.display.Markdown object>"
      ]
     },
     "metadata": {},
     "output_type": "display_data"
    },
    {
     "name": "stdout",
     "output_type": "stream",
     "text": [
      "\n",
      "Novas forças de reação nos apoios:\n"
     ]
    },
    {
     "data": {
      "text/markdown": [
       "$\\left[\\begin{matrix}-2000.0\\\\1000.0\\end{matrix}\\right]$"
      ],
      "text/plain": [
       "<IPython.core.display.Markdown object>"
      ]
     },
     "metadata": {},
     "output_type": "display_data"
    },
    {
     "data": {
      "text/markdown": [
       "$\\left[\\begin{matrix}0\\\\-1000.0\\end{matrix}\\right]$"
      ],
      "text/plain": [
       "<IPython.core.display.Markdown object>"
      ]
     },
     "metadata": {},
     "output_type": "display_data"
    },
    {
     "data": {
      "text/markdown": [
       "$\\left[\\begin{matrix}2000.0\\\\0\\end{matrix}\\right]$"
      ],
      "text/plain": [
       "<IPython.core.display.Markdown object>"
      ]
     },
     "metadata": {},
     "output_type": "display_data"
    },
    {
     "name": "stdout",
     "output_type": "stream",
     "text": [
      "\n",
      "Novas forças axiais no elemento 1:\n"
     ]
    },
    {
     "data": {
      "text/markdown": [
       "$\\left[\\begin{matrix}-2236.06797749979\\\\0\\\\2236.06797749979\\\\0\\end{matrix}\\right]$"
      ],
      "text/plain": [
       "<IPython.core.display.Markdown object>"
      ]
     },
     "metadata": {},
     "output_type": "display_data"
    },
    {
     "name": "stdout",
     "output_type": "stream",
     "text": [
      "\n",
      "Novas forças axiais no elemento 2:\n"
     ]
    },
    {
     "data": {
      "text/markdown": [
       "$\\left[\\begin{matrix}-2000.0\\\\0\\\\2000.0\\\\0\\end{matrix}\\right]$"
      ],
      "text/plain": [
       "<IPython.core.display.Markdown object>"
      ]
     },
     "metadata": {},
     "output_type": "display_data"
    },
    {
     "name": "stdout",
     "output_type": "stream",
     "text": [
      "\n",
      "Nova tensão no elemento 1:\n"
     ]
    },
    {
     "data": {
      "text/markdown": [
       "$6668833.08277695$ $\\mathtt{\\text{Pa}}$"
      ],
      "text/plain": [
       "<IPython.core.display.Markdown object>"
      ]
     },
     "metadata": {},
     "output_type": "display_data"
    },
    {
     "name": "stdout",
     "output_type": "stream",
     "text": [
      "\n",
      "Nova tensão no elemento 2:\n"
     ]
    },
    {
     "data": {
      "text/markdown": [
       "$-5964785.64147549$ $\\mathtt{\\text{Pa}}$"
      ],
      "text/plain": [
       "<IPython.core.display.Markdown object>"
      ]
     },
     "metadata": {},
     "output_type": "display_data"
    },
    {
     "name": "stdout",
     "output_type": "stream",
     "text": [
      "\n",
      "Nova força axial de compressão crítica:\n"
     ]
    },
    {
     "data": {
      "text/markdown": [
       "$2400.0$ $\\mathtt{\\text{N}}$"
      ],
      "text/plain": [
       "<IPython.core.display.Markdown object>"
      ]
     },
     "metadata": {},
     "output_type": "display_data"
    }
   ],
   "source": [
    "# Atualizando a área da seção transversal com o novo a_e\n",
    "A = (a_e**2-0.009**2)\n",
    "\n",
    "# Recalculando as constantes de rigidez axial dos elementos\n",
    "EAKL1 = E * A / L1\n",
    "EAKL2 = E * A / L2\n",
    "\n",
    "# Recalculando as matrizes de rigidez dos elementos\n",
    "k1 = calcular_matriz_rigidez(E, A, L1, ang1)\n",
    "k2 = calcular_matriz_rigidez(E, A, L2, ang2)\n",
    "\n",
    "# Recalculando a matriz global de rigidez\n",
    "matriz_global = montar_matriz_global(k1, k2)\n",
    "\n",
    "# Recalculando os deslocamentos nodais desconhecidos\n",
    "deslocamentos = resolucao_sistema(matriz_global, vetor_forcas_reduzido)\n",
    "\n",
    "# Recalculando o vetor de deslocamentos completo\n",
    "deslocamentos_completos = calcular_deslocamentos_completos(deslocamentos)\n",
    "\n",
    "# Recalculando as forças de reação nos apoios\n",
    "forcas_reacao = calcular_forcas_reacao(deslocamentos_completos, matriz_global)\n",
    "\n",
    "# Recalculando os deslocamentos em coordenadas locais\n",
    "deslocamentos_locais_1 = T1 * deslocamentos_completos[0:4, 0]\n",
    "deslocamentos_locais_2 = T2 * deslocamentos_completos[2:6, 0]\n",
    "\n",
    "# Recalculando as forças axiais nos elementos\n",
    "forcas_axiais_1 = calcular_forcas_axiais(EAKL1, Matrix(deslocamentos_locais_1))\n",
    "forcas_axiais_2 = calcular_forcas_axiais(EAKL2, Matrix(deslocamentos_locais_2))\n",
    "\n",
    "# Recalculando as tensões nos elementos\n",
    "tensao_1 = (forcas_axiais_1[2] + forcas_axiais_1[3]) / A\n",
    "tensao_2 = (forcas_axiais_2[0] + forcas_axiais_2[1]) / A\n",
    "# Recalculando a força axial de compressão crítica\n",
    "Pcr = ((pi**2)*E*I)/(L2**2)\n",
    "\n",
    "# Exibindo os resultados recalculados\n",
    "print(\"Nova área da seção transversal (A):\")\n",
    "display(md(f\"${latex(N(A, 4))}$ ${latex(\"m²\")}$\"))\n",
    "print(\"Nova matriz de rigidez do elemento 1 (k1):\")\n",
    "display(md(f\"${latex(N(k1))}$\"))\n",
    "print(\"\\nNova matriz de rigidez do elemento 2 (k2):\")\n",
    "display(md(f\"${latex(N(k2))}$\"))\n",
    "print(\"\\nNova matriz global de rigidez:\")\n",
    "display(md(f\"${latex(N(matriz_global))}$\"))\n",
    "print(\"\\nNovos deslocamentos nodais desconhecidos:\")\n",
    "display(md(f\"${latex(N(deslocamentos))}$\"))\n",
    "print(\"\\nNovas forças de reação nos apoios:\")\n",
    "display(md(f\"${latex(N(Matrix(forcas_reacao[0:2, 0])))}$\")) # Reações no nó 0\n",
    "display(md(f\"${latex(N(Matrix(forcas_reacao[2:4, 0])))}$\")) # Reações no nó 1\n",
    "display(md(f\"${latex(N(Matrix(forcas_reacao[4:6, 0])))}$\")) # Reações no nó 2\n",
    "print(\"\\nNovas forças axiais no elemento 1:\")\n",
    "display(md(f\"${latex(N(forcas_axiais_1))}$\"))\n",
    "print(\"\\nNovas forças axiais no elemento 2:\")\n",
    "display(md(f\"${latex(N(forcas_axiais_2))}$\"))\n",
    "print(\"\\nNova tensão no elemento 1:\")\n",
    "display(md(f\"${latex(N(tensao_1))}$ ${latex(\"Pa\")}$\"))\n",
    "print(\"\\nNova tensão no elemento 2:\")\n",
    "display(md(f\"${latex(N(tensao_2))}$ ${latex(\"Pa\")}$\"))\n",
    "print(\"\\nNova força axial de compressão crítica:\")\n",
    "display(md(f\"${latex(N(Pcr))}$ ${latex(\"N\")}$\"))"
   ]
  },
  {
   "cell_type": "markdown",
   "metadata": {},
   "source": [
    "### Tensão de escoamento\n"
   ]
  },
  {
   "cell_type": "markdown",
   "metadata": {},
   "source": [
    "A tensão de escoamento com coeficiente de segurança $2$ é dada por"
   ]
  },
  {
   "cell_type": "code",
   "execution_count": 31,
   "metadata": {},
   "outputs": [
    {
     "data": {
      "text/markdown": [
       "$13337666.1655539$"
      ],
      "text/plain": [
       "<IPython.core.display.Markdown object>"
      ]
     },
     "metadata": {},
     "output_type": "display_data"
    }
   ],
   "source": [
    "Sy = tensao_1 * 2\n",
    "display(md(f\"${latex(N(Sy))}$\"))\n"
   ]
  },
  {
   "cell_type": "markdown",
   "metadata": {},
   "source": [
    "Como podemos ver, a tensão do elemento 1 está dentro da normas de segurança ($\\sigma _y = 70 \\times 10^6$ Pa)"
   ]
  },
  {
   "cell_type": "markdown",
   "metadata": {},
   "source": [
    "$$$$"
   ]
  },
  {
   "cell_type": "code",
   "execution_count": 32,
   "metadata": {},
   "outputs": [
    {
     "data": {
      "text/markdown": [
       "O volume da barra 1 é: $0.00075$ m³"
      ],
      "text/plain": [
       "<IPython.core.display.Markdown object>"
      ]
     },
     "metadata": {},
     "output_type": "display_data"
    },
    {
     "data": {
      "text/markdown": [
       "O volume da barra 2 é: $0.000671$ m³"
      ],
      "text/plain": [
       "<IPython.core.display.Markdown object>"
      ]
     },
     "metadata": {},
     "output_type": "display_data"
    },
    {
     "data": {
      "text/markdown": [
       "A massa da barra 1 é: $2.09932$ kg"
      ],
      "text/plain": [
       "<IPython.core.display.Markdown object>"
      ]
     },
     "metadata": {},
     "output_type": "display_data"
    },
    {
     "data": {
      "text/markdown": [
       "A massa da barra 2 é: $1.87769$ kg"
      ],
      "text/plain": [
       "<IPython.core.display.Markdown object>"
      ]
     },
     "metadata": {},
     "output_type": "display_data"
    }
   ],
   "source": [
    "# Densidade do material (kg/m³)\n",
    "densidade = 2800\n",
    "\n",
    "# Volume da seção transversal (m³)\n",
    "volume1 = A * L1 \n",
    "volume2 = A * L2\n",
    "display(md(f\"O volume da barra 1 é: ${latex(N(volume1, 3))}$ m³\"))\n",
    "display(md(f\"O volume da barra 2 é: ${latex(N(volume2, 3))}$ m³\"))\n",
    "\n",
    "massa1 = densidade * volume1\n",
    "massa2 = densidade * volume2\n",
    "display(md(f\"A massa da barra 1 é: ${latex(N(massa1, 6))}$ kg\"))\n",
    "display(md(f\"A massa da barra 2 é: ${latex(N(massa2, 6))}$ kg\"))"
   ]
  }
 ],
 "metadata": {
  "kernelspec": {
   "display_name": "Python 3",
   "language": "python",
   "name": "python3"
  },
  "language_info": {
   "codemirror_mode": {
    "name": "ipython",
    "version": 3
   },
   "file_extension": ".py",
   "mimetype": "text/x-python",
   "name": "python",
   "nbconvert_exporter": "python",
   "pygments_lexer": "ipython3",
   "version": "3.13.2"
  }
 },
 "nbformat": 4,
 "nbformat_minor": 2
}
