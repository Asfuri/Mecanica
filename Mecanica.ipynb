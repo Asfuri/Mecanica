{
 "cells": [
  {
   "cell_type": "markdown",
   "metadata": {},
   "source": [
    "### Definição de Constantes e Parâmetros"
   ]
  },
  {
   "cell_type": "code",
   "execution_count": 1,
   "metadata": {},
   "outputs": [],
   "source": [
    "import numpy as np\n",
    "\n",
    "np.set_printoptions(linewidth=200)\n",
    "\n",
    "# Definição de Constantes e Parâmetros\n",
    "\n",
    "# Módulo de elasticidade (Pa)\n",
    "E = 70e9\n",
    "\n",
    "# Área da seção transversal (m²)\n",
    "A = 0.000063\n",
    "\n",
    "# Comprimentos dos elementos (m)\n",
    "L1 = np.sqrt(5)  # Comprimento do elemento 1\n",
    "L2 = 2           # Comprimento do elemento 2\n",
    "\n",
    "# Ângulos dos elementos (radianos)\n",
    "ang1 = np.arctan(-0.5)  # Ângulo do elemento 1\n",
    "ang2 = 0                # Ângulo do elemento 2"
   ]
  },
  {
   "cell_type": "markdown",
   "metadata": {},
   "source": [
    "### Cálculo das Matrizes de Rigidez"
   ]
  },
  {
   "cell_type": "code",
   "execution_count": 2,
   "metadata": {},
   "outputs": [
    {
     "name": "stdout",
     "output_type": "stream",
     "text": [
      "Matriz de rigidez do elemento 1 (k1):\n",
      "[[ 1577769.56492385  -788884.78246193 -1577769.56492385   788884.78246193]\n",
      " [ -788884.78246193   394442.39123096   788884.78246193  -394442.39123096]\n",
      " [-1577769.56492385   788884.78246193  1577769.56492385  -788884.78246193]\n",
      " [  788884.78246193  -394442.39123096  -788884.78246193   394442.39123096]]\n",
      "\n",
      "Matriz de rigidez do elemento 2 (k2):\n",
      "[[ 2205000.        0. -2205000.       -0.]\n",
      " [       0.        0.       -0.       -0.]\n",
      " [-2205000.       -0.  2205000.        0.]\n",
      " [      -0.       -0.        0.        0.]]\n"
     ]
    }
   ],
   "source": [
    "# Constantes de rigidez axial dos elementos\n",
    "EAKL1 = E * A / L1  # Rigidez axial do elemento 1\n",
    "EAKL2 = E * A / L2  # Rigidez axial do elemento 2\n",
    "\n",
    "# Matriz de Rigidez\n",
    "def calcular_matriz_rigidez(E, A, L, angulo):\n",
    "    EA_L = E * A / L\n",
    "    c = np.cos(angulo)\n",
    "    s = np.sin(angulo)\n",
    "    return EA_L * np.array([\n",
    "        [c**2, c*s, -c**2, -c*s],\n",
    "        [c*s, s**2, -c*s, -s**2],\n",
    "        [-c**2, -c*s, c**2, c*s],\n",
    "        [-c*s, -s**2, c*s, s**2]\n",
    "    ])\n",
    "\n",
    "# Matriz de rigidez do elemento 1\n",
    "k1 = calcular_matriz_rigidez(E, A, L1, ang1)\n",
    "\n",
    "# Matriz de rigidez do elemento 2\n",
    "k2 = calcular_matriz_rigidez(E, A, L2, ang2)\n",
    "\n",
    "\n",
    "print(\"Matriz de rigidez do elemento 1 (k1):\")\n",
    "print(k1)\n",
    "\n",
    "print(\"\\nMatriz de rigidez do elemento 2 (k2):\")\n",
    "print(k2)"
   ]
  },
  {
   "cell_type": "markdown",
   "metadata": {},
   "source": [
    "### Montagem da Matriz Global"
   ]
  },
  {
   "cell_type": "code",
   "execution_count": 3,
   "metadata": {},
   "outputs": [
    {
     "name": "stdout",
     "output_type": "stream",
     "text": [
      "Matriz global de rigidez:\n",
      "[[ 1577769.56492385  -788884.78246193 -1577769.56492385   788884.78246193        0.                0.        ]\n",
      " [ -788884.78246193   394442.39123096   788884.78246193  -394442.39123096        0.                0.        ]\n",
      " [-1577769.56492385   788884.78246193  3782769.56492385  -788884.78246193 -2205000.                0.        ]\n",
      " [  788884.78246193  -394442.39123096  -788884.78246193   394442.39123096        0.                0.        ]\n",
      " [       0.                0.         -2205000.                0.          2205000.                0.        ]\n",
      " [       0.                0.                0.                0.                0.                0.        ]]\n"
     ]
    }
   ],
   "source": [
    "def montar_matriz_global(k1, k2):\n",
    "    # Inicialização da matriz global de rigidez (6x6) com zeros\n",
    "    matriz_global = np.zeros((6, 6))\n",
    "    # Inserção da matriz de rigidez do elemento 1 na matriz global\n",
    "    matriz_global[0:4, 0:4] += k1\n",
    "    # Inserção da matriz de rigidez do elemento 2 na matriz global\n",
    "    matriz_global[2:6, 2:6] += k2\n",
    "    return matriz_global\n",
    "\n",
    "matriz_global = montar_matriz_global(k1, k2)\n",
    "\n",
    "print(\"Matriz global de rigidez:\")\n",
    "print(matriz_global)"
   ]
  },
  {
   "cell_type": "markdown",
   "metadata": {},
   "source": [
    "### Resolução do Sistema"
   ]
  },
  {
   "cell_type": "code",
   "execution_count": 4,
   "metadata": {},
   "outputs": [
    {
     "name": "stdout",
     "output_type": "stream",
     "text": [
      "Deslocamentos nodais desconhecidos:\n",
      "[-0.00090703 -0.00434928]\n"
     ]
    }
   ],
   "source": [
    "# Redução da matriz global para considerar as condições de contorno\n",
    "vetor_forcas_reduzido = np.array([0, -1000])  # Força aplicada no nó correspondente\n",
    "\n",
    "def resolucao_sistema(matriz_global, vetor_forcas_conhecido):\n",
    "# Como sabemos que os deslocamentos na parede são nulos, então cancelamos as linhas e colunas correspondentes, ficando assim apenas uma matriz reduzida\n",
    "  matriz_reduzida = matriz_global[2:4, 2:4]\n",
    "\n",
    "# Resolvendo o sistema de equações para os deslocamentos nodais desconhecidos\n",
    "  deslocamentos = np.linalg.solve(matriz_reduzida, vetor_forcas_conhecido)\n",
    "  return (deslocamentos)\n",
    "\n",
    "deslocamentos = resolucao_sistema(matriz_global, vetor_forcas_reduzido)\n",
    "\n",
    "# Exibindo os deslocamentos nodais desconhecidos\n",
    "print(\"Deslocamentos nodais desconhecidos:\")\n",
    "print(deslocamentos)"
   ]
  },
  {
   "cell_type": "markdown",
   "metadata": {},
   "source": [
    "### Cálculo das Forças de Reação"
   ]
  },
  {
   "cell_type": "code",
   "execution_count": 5,
   "metadata": {},
   "outputs": [
    {
     "name": "stdout",
     "output_type": "stream",
     "text": [
      "Forças de reação nos apoios:\n",
      "[-2000.  1000.]\n",
      "[    0. -1000.]\n",
      "[2000.    0.]\n"
     ]
    }
   ],
   "source": [
    "# Reconstrução do vetor de deslocamentos completo, incluindo os deslocamentos conhecidos (zeros nos apoios)\n",
    "def calcular_deslocamentos_completos(deslocamentos):\n",
    "  S = np.zeros(6)\n",
    "  S[2:4] = deslocamentos\n",
    "  return S\n",
    "\n",
    "deslocamentos_completos = calcular_deslocamentos_completos(deslocamentos)\n",
    "\n",
    "def calcular_forcas_reacao(deslocamentos_completos, matriz_global):\n",
    "# Cálculo das forças de reação nos apoios utilizando a matriz global de rigidez\n",
    "  return np.dot(matriz_global, deslocamentos_completos)\n",
    "\n",
    "forcas_reacao = calcular_forcas_reacao(deslocamentos_completos, matriz_global)\n",
    "\n",
    "# Exibindo as forças de reação nos apoios\n",
    "print(\"Forças de reação nos apoios:\")\n",
    "print(forcas_reacao[0:2])  # Reações no nó 0\n",
    "print(forcas_reacao[2:4])  # Reações no nó 1\n",
    "print(forcas_reacao[4:6])  # Reações no nó 2"
   ]
  },
  {
   "cell_type": "markdown",
   "metadata": {},
   "source": [
    "### Transformação para Coordenadas Locais"
   ]
  },
  {
   "cell_type": "code",
   "execution_count": 6,
   "metadata": {},
   "outputs": [
    {
     "name": "stdout",
     "output_type": "stream",
     "text": [
      "Deslocamentos em coordenadas locais para o elemento 1:\n",
      "[ 0.          0.          0.00113379 -0.00429575]\n",
      "\n",
      "Deslocamentos em coordenadas locais para o elemento 2:\n",
      "[-0.00090703 -0.00434928  0.          0.        ]\n"
     ]
    }
   ],
   "source": [
    "# Matriz de transformação para o elemento 1\n",
    "def calcular_matriz_de_rotacao(angulo):\n",
    "    T = np.array([\n",
    "        [np.cos(angulo), np.sin(angulo), 0, 0],\n",
    "        [-np.sin(angulo), np.cos(angulo), 0, 0],\n",
    "        [0, 0, np.cos(angulo), np.sin(angulo)],\n",
    "        [0, 0, -np.sin(angulo), np.cos(angulo)]\n",
    "    ])\n",
    "    return T\n",
    "# Matriz de transformação para o elemento 2\n",
    "T1 = calcular_matriz_de_rotacao(ang1)\n",
    "T2 = calcular_matriz_de_rotacao(ang2)\n",
    "\n",
    "# Transformação dos deslocamentos globais para coordenadas locais\n",
    "deslocamentos_locais_1 = np.dot(T1, deslocamentos_completos[0:4])\n",
    "deslocamentos_locais_2 = np.dot(T2, deslocamentos_completos[2:6])\n",
    "\n",
    "# Exibindo os deslocamentos transformados para coordenadas locais\n",
    "print(\"Deslocamentos em coordenadas locais para o elemento 1:\")\n",
    "print(deslocamentos_locais_1)\n",
    "\n",
    "print(\"\\nDeslocamentos em coordenadas locais para o elemento 2:\")\n",
    "print(deslocamentos_locais_2)"
   ]
  },
  {
   "cell_type": "markdown",
   "metadata": {},
   "source": [
    "### Cálculo das Forças Axiais"
   ]
  },
  {
   "cell_type": "code",
   "execution_count": 7,
   "metadata": {},
   "outputs": [
    {
     "name": "stdout",
     "output_type": "stream",
     "text": [
      "Forças axiais no elemento 1:\n",
      "[-2236.0679775     0.         2236.0679775     0.       ]\n",
      "\n",
      "Forças axiais no elemento 2:\n",
      "[-2000.     0.  2000.     0.]\n"
     ]
    }
   ],
   "source": [
    "# Matriz de forças-deslocamentos local para cálculo das forças axiais\n",
    "def calcular_forcas_axiais(EAKL, deslocamento_local):\n",
    "    matriz_forcas_deslocamento = np.array([\n",
    "        [1, 0, -1, 0],\n",
    "        [0, 0, 0, 0],\n",
    "        [-1, 0, 1, 0],\n",
    "        [0, 0, 0, 0]\n",
    "    ])\n",
    "    return (EAKL * np.dot(matriz_forcas_deslocamento, deslocamento_local))\n",
    "\n",
    "# Cálculo das forças axiais no elemento 1\n",
    "forcas_axiais_1 = calcular_forcas_axiais(EAKL1, deslocamentos_locais_1)\n",
    "print(\"Forças axiais no elemento 1:\")\n",
    "print(forcas_axiais_1)\n",
    "\n",
    "# Cálculo das forças axiais no elemento 2\n",
    "forcas_axiais_2 = calcular_forcas_axiais(EAKL2, deslocamentos_locais_2)\n",
    "print(\"\\nForças axiais no elemento 2:\")\n",
    "print(forcas_axiais_2)"
   ]
  },
  {
   "cell_type": "markdown",
   "metadata": {},
   "source": [
    "### Cálculo das Tensões"
   ]
  },
  {
   "cell_type": "code",
   "execution_count": 8,
   "metadata": {},
   "outputs": [
    {
     "name": "stdout",
     "output_type": "stream",
     "text": [
      "Tensão no elemento 1 (Pa):\n",
      "35493142.49999667\n",
      "\n",
      "Tensão no elemento 2 (Pa):\n",
      "-31746031.746031743\n"
     ]
    }
   ],
   "source": [
    "# Cálculo das tensões no elemento 1\n",
    "tensao_1 = (forcas_axiais_1[2] + forcas_axiais_1[3]) / A\n",
    "print(\"Tensão no elemento 1 (Pa):\")\n",
    "print(tensao_1)\n",
    "\n",
    "# Cálculo das tensões no elemento 2\n",
    "tensao_2 = (forcas_axiais_2[0] + forcas_axiais_2[1]) / A\n",
    "print(\"\\nTensão no elemento 2 (Pa):\")\n",
    "print(tensao_2)"
   ]
  },
  {
   "cell_type": "markdown",
   "metadata": {},
   "source": [
    "### Cálculo da Massa e Volume"
   ]
  },
  {
   "cell_type": "code",
   "execution_count": 9,
   "metadata": {},
   "outputs": [
    {
     "name": "stdout",
     "output_type": "stream",
     "text": [
      "O volume da barra 1 é: 0.000141 m³\n",
      "O volume da barra 2 é: 0.000126 m³\n",
      "A massa da barra 1 é: 0.394442 kg\n",
      "A massa da barra 2 é: 0.352800 kg\n"
     ]
    }
   ],
   "source": [
    "# Densidade do material (kg/m³)\n",
    "densidade = 2800\n",
    "\n",
    "# Volume da seção transversal (m³)\n",
    "volume1 = A * L1 \n",
    "volume2 = A * L2\n",
    "print(f\"O volume da barra 1 é: {volume1:.6f} m³\")\n",
    "print(f\"O volume da barra 2 é: {volume2:.6f} m³\")\n",
    "\n",
    "massa1 = densidade * volume1\n",
    "massa2 = densidade * volume2\n",
    "print(f\"A massa da barra 1 é: {massa1:.6f} kg\")\n",
    "print(f\"A massa da barra 2 é: {massa2:.6f} kg\")"
   ]
  },
  {
   "cell_type": "markdown",
   "metadata": {},
   "source": [
    "# Otimização"
   ]
  },
  {
   "cell_type": "code",
   "execution_count": 10,
   "metadata": {},
   "outputs": [
    {
     "name": "stdout",
     "output_type": "stream",
     "text": [
      "1.1812500000000002e-09\n",
      "204.02322847876908\n"
     ]
    }
   ],
   "source": [
    "# Cálculo do momento de Inércia da seção transversal\n",
    "I = (0.012**4-0.009**4)/12\n",
    "print(I)\n",
    "# Cálculo da força axial de compressão crítica\n",
    "Pcr = ((np.pi**2)*E*I)/(L2**2)\n",
    "print(Pcr)"
   ]
  },
  {
   "cell_type": "markdown",
   "metadata": {},
   "source": [
    "Agora, calcularemos a força axial de compressão crítica com o coeficiente de segurança $1,2$"
   ]
  },
  {
   "cell_type": "code",
   "execution_count": 11,
   "metadata": {},
   "outputs": [
    {
     "name": "stdout",
     "output_type": "stream",
     "text": [
      "2399.9999999999995\n"
     ]
    }
   ],
   "source": [
    "N = np.abs(forcas_axiais_2[0]*1.2)\n",
    "print(N)"
   ]
  },
  {
   "cell_type": "markdown",
   "metadata": {},
   "source": [
    "$$P_{cr} = \\frac{\\pi^2EI}{L^2}$$\n",
    "$$2400 = \\frac{\\pi^2\\times 70 \\times 10^9 \\times I}{2^2}$$"
   ]
  },
  {
   "cell_type": "code",
   "execution_count": 12,
   "metadata": {},
   "outputs": [
    {
     "name": "stdout",
     "output_type": "stream",
     "text": [
      "O valor de I é: 1.39e-08 m^4\n"
     ]
    }
   ],
   "source": [
    "I = (2400 * L2**2) / (np.pi**2 * E)\n",
    "\n",
    "print(f\"O valor de I é: {I:.2e} m^4\")"
   ]
  },
  {
   "cell_type": "markdown",
   "metadata": {},
   "source": [
    "$$I = \\frac{a^4_e - a^4_i}{12} $$\n",
    "Reforçarei $a_e$ e manterei $a_i$\n",
    "$$I = \\frac{a^4_e - 0,009^4}{12} $$\n",
    "Calculando $a_e$"
   ]
  },
  {
   "cell_type": "code",
   "execution_count": 13,
   "metadata": {},
   "outputs": [
    {
     "name": "stdout",
     "output_type": "stream",
     "text": [
      "O valor de a_e é: 0.02040346138097511 m\n"
     ]
    }
   ],
   "source": [
    "# Calculando a_e\n",
    "a_e = (12 * I + 0.009**4)**0.25\n",
    "print(f\"O valor de a_e é: {a_e} m\")"
   ]
  },
  {
   "cell_type": "code",
   "execution_count": 14,
   "metadata": {
    "vscode": {
     "languageId": "ruby"
    }
   },
   "outputs": [
    {
     "name": "stdout",
     "output_type": "stream",
     "text": [
      "Nova área da seção transversal (A): 0.0003353012363249428\n",
      "Nova matriz de rigidez do elemento 1 (k1):\n",
      "[[ 8397271.20245769 -4198635.60122884 -8397271.20245769  4198635.60122884]\n",
      " [-4198635.60122884  2099317.80061442  4198635.60122884 -2099317.80061442]\n",
      " [-8397271.20245769  4198635.60122884  8397271.20245769 -4198635.60122884]\n",
      " [ 4198635.60122884 -2099317.80061442 -4198635.60122884  2099317.80061442]]\n",
      "\n",
      "Nova matriz de rigidez do elemento 2 (k2):\n",
      "[[ 11735543.271373         0.       -11735543.271373        -0.      ]\n",
      " [        0.               0.              -0.              -0.      ]\n",
      " [-11735543.271373        -0.        11735543.271373         0.      ]\n",
      " [       -0.              -0.               0.               0.      ]]\n",
      "\n",
      "Nova matriz global de rigidez:\n",
      "[[  8397271.20245769  -4198635.60122884  -8397271.20245769   4198635.60122884         0.                 0.        ]\n",
      " [ -4198635.60122884   2099317.80061442   4198635.60122884  -2099317.80061442         0.                 0.        ]\n",
      " [ -8397271.20245769   4198635.60122884  20132814.47383069  -4198635.60122884 -11735543.271373           0.        ]\n",
      " [  4198635.60122884  -2099317.80061442  -4198635.60122884   2099317.80061442         0.                 0.        ]\n",
      " [        0.                 0.         -11735543.271373           0.          11735543.271373           0.        ]\n",
      " [        0.                 0.                 0.                 0.                 0.                 0.        ]]\n",
      "\n",
      "Novos deslocamentos nodais desconhecidos:\n",
      "[-0.00017042 -0.00081719]\n",
      "\n",
      "Novas forças de reação nos apoios:\n",
      "[-2000.  1000.]\n",
      "[    0. -1000.]\n",
      "[2000.    0.]\n",
      "\n",
      "Novas forças axiais no elemento 1:\n",
      "[-2236.0679775     0.         2236.0679775     0.       ]\n",
      "\n",
      "Novas forças axiais no elemento 2:\n",
      "[-2000.     0.  2000.     0.]\n",
      "\n",
      "Nova tensão no elemento 1 (Pa):\n",
      "6668833.082776949\n",
      "\n",
      "Nova tensão no elemento 2 (Pa):\n",
      "-5964785.641475495\n",
      "\n",
      "Nova força axial de compressão crítica:\n",
      "2400.0\n"
     ]
    }
   ],
   "source": [
    "# Atualizando a área da seção transversal com o novo a_e\n",
    "A = (a_e**2-0.009**2)\n",
    "\n",
    "# Recalculando as constantes de rigidez axial dos elementos\n",
    "EAKL1 = E * A / L1\n",
    "EAKL2 = E * A / L2\n",
    "\n",
    "# Recalculando as matrizes de rigidez dos elementos\n",
    "k1 = calcular_matriz_rigidez(E, A, L1, ang1)\n",
    "k2 = calcular_matriz_rigidez(E, A, L2, ang2)\n",
    "\n",
    "# Recalculando a matriz global de rigidez\n",
    "matriz_global = montar_matriz_global(k1, k2)\n",
    "\n",
    "# Recalculando os deslocamentos nodais desconhecidos\n",
    "deslocamentos = resolucao_sistema(matriz_global, vetor_forcas_reduzido)\n",
    "\n",
    "# Recalculando o vetor de deslocamentos completo\n",
    "deslocamentos_completos = calcular_deslocamentos_completos(deslocamentos)\n",
    "\n",
    "# Recalculando as forças de reação nos apoios\n",
    "forcas_reacao = calcular_forcas_reacao(deslocamentos_completos, matriz_global)\n",
    "\n",
    "# Recalculando os deslocamentos em coordenadas locais\n",
    "deslocamentos_locais_1 = np.dot(T1, deslocamentos_completos[0:4])\n",
    "deslocamentos_locais_2 = np.dot(T2, deslocamentos_completos[2:6])\n",
    "\n",
    "# Recalculando as forças axiais nos elementos\n",
    "forcas_axiais_1 = calcular_forcas_axiais(EAKL1, deslocamentos_locais_1)\n",
    "forcas_axiais_2 = calcular_forcas_axiais(EAKL2, deslocamentos_locais_2)\n",
    "\n",
    "# Recalculando as tensões nos elementos\n",
    "tensao_1 = (forcas_axiais_1[2] + forcas_axiais_1[3]) / A\n",
    "tensao_2 = (forcas_axiais_2[0] + forcas_axiais_2[1]) / A\n",
    "# Recalculando a força axial de compressão crítica\n",
    "Pcr = ((np.pi**2)*E*I)/(L2**2)\n",
    "\n",
    "# Exibindo os resultados recalculados\n",
    "print(\"Nova área da seção transversal (A):\", A)\n",
    "print(\"Nova matriz de rigidez do elemento 1 (k1):\")\n",
    "print(k1)\n",
    "print(\"\\nNova matriz de rigidez do elemento 2 (k2):\")\n",
    "print(k2)\n",
    "print(\"\\nNova matriz global de rigidez:\")\n",
    "print(matriz_global)\n",
    "print(\"\\nNovos deslocamentos nodais desconhecidos:\")\n",
    "print(deslocamentos)\n",
    "print(\"\\nNovas forças de reação nos apoios:\")\n",
    "print(forcas_reacao[0:2])  # Reações no nó 0\n",
    "print(forcas_reacao[2:4])  # Reações no nó 1\n",
    "print(forcas_reacao[4:6])  # Reações no nó 2\n",
    "print(\"\\nNovas forças axiais no elemento 1:\")\n",
    "print(forcas_axiais_1)\n",
    "print(\"\\nNovas forças axiais no elemento 2:\")\n",
    "print(forcas_axiais_2)\n",
    "print(\"\\nNova tensão no elemento 1 (Pa):\")\n",
    "print(tensao_1)\n",
    "print(\"\\nNova tensão no elemento 2 (Pa):\")\n",
    "print(tensao_2)\n",
    "print(\"\\nNova força axial de compressão crítica:\")\n",
    "print(Pcr)"
   ]
  },
  {
   "cell_type": "markdown",
   "metadata": {},
   "source": [
    "### Tensão de escoamento\n"
   ]
  },
  {
   "cell_type": "markdown",
   "metadata": {},
   "source": [
    "A tensão de escoamento com coeficiente de segurança $2$ é dada por"
   ]
  },
  {
   "cell_type": "code",
   "execution_count": 15,
   "metadata": {},
   "outputs": [
    {
     "name": "stdout",
     "output_type": "stream",
     "text": [
      "13337666.165553898\n"
     ]
    }
   ],
   "source": [
    "Sy = tensao_1 * 2\n",
    "print(Sy)"
   ]
  },
  {
   "cell_type": "markdown",
   "metadata": {},
   "source": [
    "Como podemos ver, a tensão do elemento 1 está dentro da normas de segurança ($\\sigma _y = 70 \\times 10^6$ Pa)"
   ]
  },
  {
   "cell_type": "markdown",
   "metadata": {},
   "source": [
    "$$$$"
   ]
  },
  {
   "cell_type": "code",
   "execution_count": 16,
   "metadata": {},
   "outputs": [
    {
     "name": "stdout",
     "output_type": "stream",
     "text": [
      "O volume da barra 1 é: 0.000750 m³\n",
      "O volume da barra 2 é: 0.000671 m³\n",
      "A massa da barra 1 é: 2.099318 kg\n",
      "A massa da barra 2 é: 1.877687 kg\n"
     ]
    }
   ],
   "source": [
    "# Densidade do material (kg/m³)\n",
    "densidade = 2800\n",
    "\n",
    "# Volume da seção transversal (m³)\n",
    "volume1 = A * L1 \n",
    "volume2 = A * L2\n",
    "print(f\"O volume da barra 1 é: {volume1:.6f} m³\")\n",
    "print(f\"O volume da barra 2 é: {volume2:.6f} m³\")\n",
    "\n",
    "massa1 = densidade * volume1\n",
    "massa2 = densidade * volume2\n",
    "print(f\"A massa da barra 1 é: {massa1:.6f} kg\")\n",
    "print(f\"A massa da barra 2 é: {massa2:.6f} kg\")"
   ]
  }
 ],
 "metadata": {
  "kernelspec": {
   "display_name": "Python 3",
   "language": "python",
   "name": "python3"
  },
  "language_info": {
   "codemirror_mode": {
    "name": "ipython",
    "version": 3
   },
   "file_extension": ".py",
   "mimetype": "text/x-python",
   "name": "python",
   "nbconvert_exporter": "python",
   "pygments_lexer": "ipython3",
   "version": "3.13.2"
  }
 },
 "nbformat": 4,
 "nbformat_minor": 2
}
