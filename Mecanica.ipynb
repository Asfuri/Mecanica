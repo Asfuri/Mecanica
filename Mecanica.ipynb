{
 "cells": [
  {
   "cell_type": "markdown",
   "metadata": {},
   "source": [
    "### Definição de Constantes e Parâmetros\n",
    "\n",
    "Nesta seção, definiremos as propriedades e dimensão dos elementos estruturais.\n",
    "- Módulo de Elasticidade: Mede a rigidez do material. É definido como a razão entre a tensão aplicada e deformação sofrida pelo material. $$[\\frac{Tensão}{Deforma\\c{c}ão}] = N/m^2 = Pa$$\n",
    "- Área de Seção Transversal: Área da seção transversal dos elementos, definida como $$Comprimento_{externo}^2 - Comprimento_{Interno}^2,$$ pois todos os elementos possuem como seção transversal quadrados ocos. $$[Área \\ da \\ se\\c{c}ão \\ transversal] = m^2$$\n",
    "- Comprimento: Distância entre dois nós da estrutura. $$[Comprimento] = m$$\n",
    "- Ângulo: Orientação dos elementos em relação ao sistema de coordenadas globais. $$[Ângulo] = \\frac{m}{m} = rad$$"
   ]
  },
  {
   "cell_type": "code",
   "execution_count": 1,
   "metadata": {},
   "outputs": [],
   "source": [
    "from sympy import *\n",
    "from IPython.display import Markdown as md, display\n",
    "init_printing(num_columns=100)\n",
    "\n",
    "\n",
    "# Definição de Constantes e Parâmetros\n",
    "E = Symbol('E')\n",
    "A = Symbol('A')\n",
    "L1 = Symbol('L1')\n",
    "L2 = Symbol('L2')\n",
    "ang1 = Symbol('ang1')\n",
    "ang2 = Symbol('ang2')\n",
    "# Módulo de elasticidade (Pa)\n",
    "E = 70e9\n",
    "\n",
    "# Área da seção transversal (m²)\n",
    "A = 0.012**2-0.009**2\n",
    "\n",
    "# Comprimentos dos elementos (m)\n",
    "L1 = sqrt(5)  # Comprimento do elemento 1\n",
    "L2 = 2           # Comprimento do elemento 2\n",
    "\n",
    "# Ângulos dos elementos (radianos)\n",
    "ang1 = atan(-0.5)  # Ângulo do elemento 1\n",
    "ang2 = 0                # Ângulo do elemento 2"
   ]
  },
  {
   "cell_type": "markdown",
   "metadata": {},
   "source": [
    "### Cálculo das Matrizes de Rigidez"
   ]
  },
  {
   "cell_type": "markdown",
   "metadata": {},
   "source": [
    "$$\n",
    "  \\frac{EA}{L}\n",
    "  \\begin{bmatrix}\n",
    "    \\cos^2{\\alpha}            & \\cos{\\alpha}\\sin{\\alpha}  & -\\cos^2{\\alpha}           & -\\cos{\\alpha}\\sin{\\alpha} \\\\\n",
    "    \\cos{\\alpha}\\sin{\\alpha}  & \\sin^2{\\alpha}            & -\\cos{\\alpha}\\sin{\\alpha} & -\\sin^2{\\alpha}           \\\\\n",
    "    -\\cos^2{\\alpha}           & -\\cos{\\alpha}\\sin{\\alpha} & \\cos^2{\\alpha}            & \\cos{\\alpha}\\sin{\\alpha}  \\\\\n",
    "    -\\cos{\\alpha}\\sin{\\alpha} & -\\sin^2{\\alpha}            & \\cos{\\alpha}\\sin{\\alpha}  & \\sin^2{\\alpha}           \\\\\n",
    "  \\end{bmatrix}\n",
    "$$\n",
    "Essa é a matriz de rigidez das treliças 2D no Sistema Global de Coordenadas"
   ]
  },
  {
   "cell_type": "code",
   "execution_count": 2,
   "metadata": {},
   "outputs": [
    {
     "name": "stdout",
     "output_type": "stream",
     "text": [
      "Matriz de rigidez do elemento 1 (k1):\n"
     ]
    },
    {
     "data": {
      "text/markdown": [
       "$\\left[\\begin{matrix}705600.0 \\sqrt{5} & - 352800.0 \\sqrt{5} & - 705600.0 \\sqrt{5} & 352800.0 \\sqrt{5}\\\\- 352800.0 \\sqrt{5} & 176400.0 \\sqrt{5} & 352800.0 \\sqrt{5} & - 176400.0 \\sqrt{5}\\\\- 705600.0 \\sqrt{5} & 352800.0 \\sqrt{5} & 705600.0 \\sqrt{5} & - 352800.0 \\sqrt{5}\\\\352800.0 \\sqrt{5} & - 176400.0 \\sqrt{5} & - 352800.0 \\sqrt{5} & 176400.0 \\sqrt{5}\\end{matrix}\\right]$"
      ],
      "text/plain": [
       "<IPython.core.display.Markdown object>"
      ]
     },
     "metadata": {},
     "output_type": "display_data"
    },
    {
     "name": "stdout",
     "output_type": "stream",
     "text": [
      "\n",
      "Matriz de rigidez do elemento 2 (k2):\n"
     ]
    },
    {
     "data": {
      "text/markdown": [
       "$\\left[\\begin{matrix}2205000.0 & 0 & -2205000.0 & 0\\\\0 & 0 & 0 & 0\\\\-2205000.0 & 0 & 2205000.0 & 0\\\\0 & 0 & 0 & 0\\end{matrix}\\right]$"
      ],
      "text/plain": [
       "<IPython.core.display.Markdown object>"
      ]
     },
     "metadata": {},
     "output_type": "display_data"
    }
   ],
   "source": [
    "# Constantes de rigidez axial dos elementos\n",
    "EAL1 = E * A / L1  # Rigidez axial do elemento 1\n",
    "EAL2 = E * A / L2  # Rigidez axial do elemento 2\n",
    "# Matriz de Rigidez\n",
    "def calcular_matriz_rigidez(E, A, L, angulo):\n",
    "    EA_L = E * A / L\n",
    "    c = cos(angulo)\n",
    "    s = sin(angulo)\n",
    "    return EA_L * Matrix([\n",
    "        [c**2, c*s, -c**2, -c*s],\n",
    "        [c*s, s**2, -c*s, -s**2],\n",
    "        [-c**2, -c*s, c**2, c*s],\n",
    "        [-c*s, -s**2, c*s, s**2]\n",
    "    ])\n",
    "\n",
    "# Matriz de rigidez do elemento 1\n",
    "k1 = calcular_matriz_rigidez(E, A, L1, ang1)\n",
    "\n",
    "# Matriz de rigidez do elemento 2\n",
    "k2 = calcular_matriz_rigidez(E, A, L2, ang2)\n",
    "\n",
    "\n",
    "print(\"Matriz de rigidez do elemento 1 (k1):\")\n",
    "display(md(f\"${latex(k1)}$\"))\n",
    "\n",
    "print(\"\\nMatriz de rigidez do elemento 2 (k2):\")\n",
    "display(md(f\"${latex(k2)}$\"))"
   ]
  },
  {
   "cell_type": "markdown",
   "metadata": {},
   "source": [
    "### Montagem da Matriz Global"
   ]
  },
  {
   "cell_type": "markdown",
   "metadata": {},
   "source": [
    "$$\\mathbf{K}_{global}(i,j) = \\sum_{e=1}^{n_{elementos}} \\mathbf(a,b)$$"
   ]
  },
  {
   "cell_type": "code",
   "execution_count": 3,
   "metadata": {},
   "outputs": [
    {
     "name": "stdout",
     "output_type": "stream",
     "text": [
      "Matriz global de rigidez:\n"
     ]
    },
    {
     "data": {
      "text/markdown": [
       "$\\left[\\begin{matrix}705600.0 \\sqrt{5} & - 352800.0 \\sqrt{5} & - 705600.0 \\sqrt{5} & 352800.0 \\sqrt{5} & 0 & 0\\\\- 352800.0 \\sqrt{5} & 176400.0 \\sqrt{5} & 352800.0 \\sqrt{5} & - 176400.0 \\sqrt{5} & 0 & 0\\\\- 705600.0 \\sqrt{5} & 352800.0 \\sqrt{5} & 705600.0 \\sqrt{5} + 2205000.0 & - 352800.0 \\sqrt{5} & -2205000.0 & 0\\\\352800.0 \\sqrt{5} & - 176400.0 \\sqrt{5} & - 352800.0 \\sqrt{5} & 176400.0 \\sqrt{5} & 0 & 0\\\\0 & 0 & -2205000.0 & 0 & 2205000.0 & 0\\\\0 & 0 & 0 & 0 & 0 & 0\\end{matrix}\\right]$"
      ],
      "text/plain": [
       "<IPython.core.display.Markdown object>"
      ]
     },
     "metadata": {},
     "output_type": "display_data"
    }
   ],
   "source": [
    "def montar_matriz_global(k1, k2):\n",
    "    # Inicialização da matriz global de rigidez (6x6) com zeros\n",
    "    matriz_global = Matrix.zeros(6, 6)\n",
    "    # Inserção da matriz de rigidez do elemento 1 na matriz global\n",
    "    matriz_global[0:4, 0:4] += k1\n",
    "    # Inserção da matriz de rigidez do elemento 2 na matriz global\n",
    "    matriz_global[2:6, 2:6] += k2\n",
    "    \n",
    "    return matriz_global\n",
    "\n",
    "matriz_global = montar_matriz_global(k1, k2)\n",
    "\n",
    "print(\"Matriz global de rigidez:\")\n",
    "display(md(f\"${latex(matriz_global)}$\"))"
   ]
  },
  {
   "cell_type": "markdown",
   "metadata": {},
   "source": [
    "### Resolução do Sistema\n"
   ]
  },
  {
   "cell_type": "markdown",
   "metadata": {},
   "source": [
    "Vetor de Forças:\n",
    "$$\n",
    "F = \\begin{bmatrix}\n",
    "? \\\\\n",
    "? \\\\\n",
    "0 \\\\\n",
    "-1000 \\\\\n",
    "? \\\\\n",
    "? \\\\\n",
    "\\end{bmatrix}\n",
    "$$"
   ]
  },
  {
   "cell_type": "markdown",
   "metadata": {},
   "source": [
    "No sistema reduzido, temos:\n",
    "$$ \\begin{bmatrix}\n",
    "k_{23} & k_{24} \\\\\n",
    "k_{33} & k_{34}\n",
    "\\end{bmatrix}\n",
    "\\cdot\n",
    "\\begin{bmatrix}\n",
    "u_1 \\\\\n",
    "u_2\n",
    "\\end{bmatrix}\n",
    "=\n",
    "\\begin{bmatrix}\n",
    "0 \\\\\n",
    "-1000\n",
    "\\end{bmatrix}\n",
    "$$\n",
    "\n",
    "$$\n",
    "\\Rightarrow\n",
    "\\begin{bmatrix}\n",
    "u_1 \\\\\n",
    "u_2\n",
    "\\end{bmatrix}\n",
    "=\n",
    "\\begin{bmatrix}\n",
    "k_{23} & k_{24} \\\\\n",
    "k_{33} & k_{34}\n",
    "\\end{bmatrix}^{-1}\n",
    "\\cdot\n",
    "\\begin{bmatrix}\n",
    "0 \\\\\n",
    "-1000\n",
    "\\end{bmatrix} $$"
   ]
  },
  {
   "cell_type": "code",
   "execution_count": 4,
   "metadata": {},
   "outputs": [
    {
     "name": "stdout",
     "output_type": "stream",
     "text": [
      "Deslocamentos nodais desconhecidos:\n"
     ]
    },
    {
     "data": {
      "text/markdown": [
       "$\\left[\\begin{matrix}-0.000907\\\\-0.00435\\end{matrix}\\right]$"
      ],
      "text/plain": [
       "<IPython.core.display.Markdown object>"
      ]
     },
     "metadata": {},
     "output_type": "display_data"
    }
   ],
   "source": [
    "# Redução da matriz global para considerar as condições de contorno\n",
    "vetor_forcas_reduzido = Matrix([0, -1000])  # Força aplicada no nó correspondente\n",
    "\n",
    "def resolucao_sistema(matriz_global, vetor_forcas_conhecido):\n",
    "    # Como sabemos que os deslocamentos na parede são nulos, então cancelamos as linhas e colunas correspondentes, ficando assim apenas uma matriz reduzida\n",
    "    matriz_reduzida = matriz_global[2:4, 2:4]\n",
    "\n",
    "    # Resolvendo o sistema de equações para os deslocamentos nodais desconhecidos\n",
    "    deslocamentos = matriz_reduzida.LUsolve(vetor_forcas_conhecido)\n",
    "    return deslocamentos\n",
    "\n",
    "deslocamentos = resolucao_sistema(matriz_global, vetor_forcas_reduzido)\n",
    "\n",
    "# Exibindo os deslocamentos nodais desconhecidos\n",
    "print(\"Deslocamentos nodais desconhecidos:\")\n",
    "display(md(f\"${latex(N(deslocamentos, 3))}$\"))"
   ]
  },
  {
   "cell_type": "markdown",
   "metadata": {},
   "source": [
    "### Cálculo das Forças de Reação\n",
    "\n",
    "$$\n",
    "\\begin{bmatrix}\n",
    "F_{1x} \\\\\n",
    "F_{1y} \\\\\n",
    "F_{2x} \\\\\n",
    "F_{2y} \\\\\n",
    "F_{3x} \\\\\n",
    "F_{3y}\n",
    "\\end{bmatrix}\n",
    "=\n",
    "\\begin{bmatrix}\n",
    "705600.0\\sqrt{5} & -352800.0\\sqrt{5} & -705600.0\\sqrt{5} & 352800.0\\sqrt{5} & 0 & 0 \\\\\n",
    "-352800.0\\sqrt{5} & 176400.0\\sqrt{5} & 352800.0\\sqrt{5} & -176400.0\\sqrt{5} & 0 & 0 \\\\\n",
    "-705600.0\\sqrt{5} & 352800.0\\sqrt{5} & 705600.0\\sqrt{5} + 2205000.0 & -352800.0\\sqrt{5} & -2205000.0 & 0 \\\\\n",
    "352800.0\\sqrt{5} & -176400.0\\sqrt{5} & -352800.0\\sqrt{5} & 176400.0\\sqrt{5} & 0 & 0 \\\\\n",
    "0 & 0 & -2205000.0 & 0 & 2205000.0 & 0 \\\\\n",
    "0 & 0 & 0 & 0 & 0 & 0 \n",
    "\\end{bmatrix}  \n",
    "\\begin{bmatrix}\n",
    "0 \\\\\n",
    "0 \\\\\n",
    "-9{,}07 \\cdot 10^{-4} \\\\\n",
    "-4{,}35 \\cdot 10^{-3} \\\\\n",
    "0 \\\\\n",
    "0\n",
    "\\end{bmatrix}\n",
    "=\n",
    "\\begin{bmatrix}\n",
    "-2000.0 \\\\\n",
    "-1000.0 \\\\\n",
    "0 \\\\\n",
    "-1000.0 \\\\\n",
    "2000.0 \\\\\n",
    "0.0\n",
    "\\end{bmatrix} \\ \\mathrm{N}\n",
    "$$"
   ]
  },
  {
   "cell_type": "code",
   "execution_count": 5,
   "metadata": {},
   "outputs": [
    {
     "name": "stdout",
     "output_type": "stream",
     "text": [
      "Forças de reação nos apoios:\n"
     ]
    },
    {
     "data": {
      "text/markdown": [
       "$\\left[\\begin{matrix}-2000.0\\\\1000.0\\end{matrix}\\right]$"
      ],
      "text/plain": [
       "<IPython.core.display.Markdown object>"
      ]
     },
     "metadata": {},
     "output_type": "display_data"
    },
    {
     "data": {
      "text/markdown": [
       "$\\left[\\begin{matrix}0\\\\-1000.0\\end{matrix}\\right]$"
      ],
      "text/plain": [
       "<IPython.core.display.Markdown object>"
      ]
     },
     "metadata": {},
     "output_type": "display_data"
    },
    {
     "data": {
      "text/markdown": [
       "$\\left[\\begin{matrix}2000.0\\\\0\\end{matrix}\\right]$"
      ],
      "text/plain": [
       "<IPython.core.display.Markdown object>"
      ]
     },
     "metadata": {},
     "output_type": "display_data"
    }
   ],
   "source": [
    "# Reconstrução do vetor de deslocamentos completo, incluindo os deslocamentos conhecidos (zeros nos apoios)\n",
    "def calcular_deslocamentos_completos(deslocamentos):\n",
    "  S = Matrix.zeros(6, 1)\n",
    "  S[2:4, 0] = deslocamentos\n",
    "  return S\n",
    "\n",
    "deslocamentos_completos = calcular_deslocamentos_completos(deslocamentos)\n",
    "\n",
    "def calcular_forcas_reacao(deslocamentos_completos, matriz_global):\n",
    "# Cálculo das forças de reação nos apoios utilizando a matriz global de rigidez\n",
    "  return matriz_global * deslocamentos_completos\n",
    "\n",
    "forcas_reacao = calcular_forcas_reacao(deslocamentos_completos, matriz_global)\n",
    "\n",
    "# Exibindo as forças de reação nos apoios\n",
    "print(\"Forças de reação nos apoios:\")\n",
    "display(md(f\"${latex(N(Matrix(forcas_reacao[0:2])))}$\")) # Reações no nó 0\n",
    "display(md(f\"${latex(N(Matrix(forcas_reacao[2:4])))}$\")) # Reações no nó 1\n",
    "display(md(f\"${latex(N(Matrix(forcas_reacao[4:6])))}$\")) # Reações no nó 2\n"
   ]
  },
  {
   "cell_type": "markdown",
   "metadata": {},
   "source": [
    "### Transformação para Coordenadas Locais"
   ]
  },
  {
   "cell_type": "markdown",
   "metadata": {},
   "source": [
    "Matriz de transformação $ T $:\n",
    "\n",
    "$$\n",
    "T = \\begin{bmatrix}\n",
    "\\cos{\\alpha} & \\sin{\\alpha} & 0 & 0 \\\\\n",
    "-\\sin{\\alpha} & \\cos{\\alpha} & 0 & 0 \\\\\n",
    "0 & 0 & \\cos{\\alpha} & \\sin{\\alpha} \\\\\n",
    "0 & 0 & -\\sin{\\alpha} & \\cos{\\alpha} \\\\\n",
    "\\end{bmatrix}\n",
    "$$\n",
    "\n",
    "Transformação de deslocamentos globais $ u_g $ para locais $ u_l $:\n",
    "\n",
    "$$\n",
    "u_l = T \\cdot u_g\n",
    "$$"
   ]
  },
  {
   "cell_type": "code",
   "execution_count": 6,
   "metadata": {},
   "outputs": [
    {
     "name": "stdout",
     "output_type": "stream",
     "text": [
      "Deslocamentos em coordenadas locais para o elemento 1:\n"
     ]
    },
    {
     "data": {
      "text/markdown": [
       "$\\left[\\begin{matrix}0\\\\0\\\\0.00113\\\\-0.0043\\end{matrix}\\right]$"
      ],
      "text/plain": [
       "<IPython.core.display.Markdown object>"
      ]
     },
     "metadata": {},
     "output_type": "display_data"
    },
    {
     "name": "stdout",
     "output_type": "stream",
     "text": [
      "\n",
      "Deslocamentos em coordenadas locais para o elemento 2:\n"
     ]
    },
    {
     "data": {
      "text/markdown": [
       "$\\left[\\begin{matrix}-0.000907\\\\-0.00435\\\\0\\\\0\\end{matrix}\\right]$"
      ],
      "text/plain": [
       "<IPython.core.display.Markdown object>"
      ]
     },
     "metadata": {},
     "output_type": "display_data"
    }
   ],
   "source": [
    "# Matriz de transformação para o elemento 1\n",
    "def calcular_matriz_de_rotacao(angulo):\n",
    "    T = Matrix([\n",
    "        [cos(angulo), sin(angulo), 0, 0],\n",
    "        [-sin(angulo), cos(angulo), 0, 0],\n",
    "        [0, 0, cos(angulo), sin(angulo)],\n",
    "        [0, 0, -sin(angulo), cos(angulo)]\n",
    "    ])\n",
    "    return T\n",
    "# Matriz de transformação para o elemento 2\n",
    "T1 = calcular_matriz_de_rotacao(ang1)\n",
    "T2 = calcular_matriz_de_rotacao(ang2)\n",
    "\n",
    "# Transformação dos deslocamentos globais para coordenadas locais\n",
    "deslocamentos_locais_1 = T1 * deslocamentos_completos[0:4, 0]\n",
    "deslocamentos_locais_2 = T2 * deslocamentos_completos[2:6, 0]\n",
    "\n",
    "# Exibindo os deslocamentos transformados para coordenadas locais\n",
    "print(\"Deslocamentos em coordenadas locais para o elemento 1:\")\n",
    "display(md(f\"${latex(N(deslocamentos_locais_1, 3))}$\"))\n",
    "\n",
    "print(\"\\nDeslocamentos em coordenadas locais para o elemento 2:\")\n",
    "display(md(f\"${latex(N(deslocamentos_locais_2, 3))}$\"))"
   ]
  },
  {
   "cell_type": "markdown",
   "metadata": {},
   "source": [
    "### Cálculo das Forças Axiais"
   ]
  },
  {
   "cell_type": "markdown",
   "metadata": {},
   "source": [
    "A força axial é dada por:\n",
    "\n",
    "$$\n",
    "F_{axial} = \\frac{EA}{L} \\cdot \n",
    "\\begin{bmatrix}\n",
    "1 & 0 & -1 & 0 \\\\\n",
    "0 & 0 & 0 & 0 \\\\\n",
    "-1 & 0 & 1 & 0 \\\\\n",
    "0 & 0 & 0 & 0 \n",
    "\\end{bmatrix}\n",
    "\\cdot \n",
    "\\begin{bmatrix}\n",
    "u_1' \\\\\n",
    "u_2' \\\\\n",
    "u_3' \\\\\n",
    "u_4'\n",
    "\\end{bmatrix}\n",
    "$$\n"
   ]
  },
  {
   "cell_type": "code",
   "execution_count": 7,
   "metadata": {},
   "outputs": [
    {
     "name": "stdout",
     "output_type": "stream",
     "text": [
      "Forças axiais no elemento 1:\n"
     ]
    },
    {
     "data": {
      "text/markdown": [
       "$\\left[\\begin{matrix}-2236.068\\\\0\\\\2236.068\\\\0\\end{matrix}\\right]$"
      ],
      "text/plain": [
       "<IPython.core.display.Markdown object>"
      ]
     },
     "metadata": {},
     "output_type": "display_data"
    },
    {
     "name": "stdout",
     "output_type": "stream",
     "text": [
      "\n",
      "Forças axiais no elemento 2:\n"
     ]
    },
    {
     "data": {
      "text/markdown": [
       "$\\left[\\begin{matrix}-2000.0\\\\0\\\\2000.0\\\\0\\end{matrix}\\right]$"
      ],
      "text/plain": [
       "<IPython.core.display.Markdown object>"
      ]
     },
     "metadata": {},
     "output_type": "display_data"
    }
   ],
   "source": [
    "# Matriz de forças-deslocamentos local para cálculo das forças axiais\n",
    "def calcular_forcas_axiais(EAL, deslocamento_local):\n",
    "    matriz_forcas_deslocamento = Matrix([\n",
    "        [1, 0, -1, 0],\n",
    "        [0, 0, 0, 0],\n",
    "        [-1, 0, 1, 0],\n",
    "        [0, 0, 0, 0]\n",
    "    ])\n",
    "    return EAL * matriz_forcas_deslocamento * deslocamento_local\n",
    "\n",
    "# Cálculo das forças axiais no elemento 1\n",
    "forcas_axiais_1 = calcular_forcas_axiais(EAL1, deslocamentos_locais_1)\n",
    "print(\"Forças axiais no elemento 1:\")\n",
    "display(md(f\"${latex(N(forcas_axiais_1, 7))}$\"))\n",
    "\n",
    "\n",
    "# Cálculo das forças axiais no elemento 2\n",
    "forcas_axiais_2 = calcular_forcas_axiais(EAL2, deslocamentos_locais_2)\n",
    "print(\"\\nForças axiais no elemento 2:\")\n",
    "display(md(f\"${latex(N(forcas_axiais_2))}$\"))"
   ]
  },
  {
   "cell_type": "markdown",
   "metadata": {},
   "source": [
    "### Cálculo das Tensões"
   ]
  },
  {
   "cell_type": "markdown",
   "metadata": {},
   "source": [
    "A tensão axial é dada por:\n",
    "\n",
    "$$\n",
    "\\sigma_{axial} = \\frac{F_{axial}}{A}\n",
    "$$"
   ]
  },
  {
   "cell_type": "code",
   "execution_count": 8,
   "metadata": {},
   "outputs": [
    {
     "data": {
      "text/markdown": [
       "Tensão no elemento 1: $35493142.5$ $\\mathtt{\\text{Pa}}$"
      ],
      "text/plain": [
       "<IPython.core.display.Markdown object>"
      ]
     },
     "metadata": {},
     "output_type": "display_data"
    },
    {
     "data": {
      "text/markdown": [
       "Tensão no elemento 2: $-31746031.75$ $\\mathtt{\\text{Pa}}$"
      ],
      "text/plain": [
       "<IPython.core.display.Markdown object>"
      ]
     },
     "metadata": {},
     "output_type": "display_data"
    }
   ],
   "source": [
    "# Cálculo das tensões no elemento 1\n",
    "tensao_1 = (forcas_axiais_1[2, 0] + forcas_axiais_1[3, 0]) / A\n",
    "display(md(f\"Tensão no elemento 1: ${latex(N(tensao_1, 10))}$ ${latex(\"Pa\")}$\"))\n",
    "# Cálculo das tensões no elemento 2\n",
    "tensao_2 = (forcas_axiais_2[0, 0] + forcas_axiais_2[1, 0]) / A\n",
    "display(md(f\"Tensão no elemento 2: ${latex(N(tensao_2, 10))}$ ${latex(\"Pa\")}$\"))"
   ]
  },
  {
   "cell_type": "markdown",
   "metadata": {},
   "source": [
    "### Cálculo da Massa e Volume"
   ]
  },
  {
   "cell_type": "markdown",
   "metadata": {},
   "source": [
    "O volume $ V $ de um elemento de treliça é dado por:\n",
    "\n",
    "$$\n",
    "V = A \\cdot L\n",
    "$$\n",
    "\n",
    "A massa $ m $ de um elemento de treliça pode ser calculada por:\n",
    "\n",
    "$$\n",
    "m = \\rho \\cdot V\n",
    "$$\n",
    "\n",
    "Substituindo a expressão do volume, temos:\n",
    "\n",
    "$$\n",
    "m = \\rho \\cdot A \\cdot L\n",
    "$$"
   ]
  },
  {
   "cell_type": "code",
   "execution_count": 9,
   "metadata": {},
   "outputs": [
    {
     "data": {
      "text/markdown": [
       "O volume da barra 1 é: $6.3 \\cdot 10^{-5} \\sqrt{5}$ $\\mathtt{\\text{m³}}$"
      ],
      "text/plain": [
       "<IPython.core.display.Markdown object>"
      ]
     },
     "metadata": {},
     "output_type": "display_data"
    },
    {
     "data": {
      "text/markdown": [
       "O volume da barra 2 é: $0.000126$ $\\mathtt{\\text{m³}}$"
      ],
      "text/plain": [
       "<IPython.core.display.Markdown object>"
      ]
     },
     "metadata": {},
     "output_type": "display_data"
    },
    {
     "data": {
      "text/markdown": [
       "A massa da barra 1 é: $0.1764 \\sqrt{5}$ $\\mathtt{\\text{kg}}$"
      ],
      "text/plain": [
       "<IPython.core.display.Markdown object>"
      ]
     },
     "metadata": {},
     "output_type": "display_data"
    },
    {
     "data": {
      "text/markdown": [
       "A massa da barra 2 é: $0.3528$ $\\mathtt{\\text{kg}}$"
      ],
      "text/plain": [
       "<IPython.core.display.Markdown object>"
      ]
     },
     "metadata": {},
     "output_type": "display_data"
    }
   ],
   "source": [
    "# Densidade do material (kg/m³)\n",
    "densidade = 2800\n",
    "\n",
    "# Volume da seção transversal (m³)\n",
    "volume1 = A * L1 \n",
    "volume2 = A * L2\n",
    "display(md(f\"O volume da barra 1 é: ${latex(volume1)}$ ${latex(\"m³\")}$\"))\n",
    "display(md(f\"O volume da barra 2 é: ${latex(volume2)}$ ${latex(\"m³\")}$\"))\n",
    "\n",
    "massa1 = densidade * volume1\n",
    "massa2 = densidade * volume2\n",
    "display(md(f\"A massa da barra 1 é: ${latex(massa1)}$ ${latex(\"kg\")}$\"))\n",
    "display(md(f\"A massa da barra 2 é: ${latex(massa2)}$ ${latex(\"kg\")}$\"))"
   ]
  },
  {
   "cell_type": "markdown",
   "metadata": {},
   "source": [
    "# Otimização\n",
    "Como não queremos alterar a estrutura do projeto, trabalharemos em cima da váriavel do momento de inércia $(I)$"
   ]
  },
  {
   "cell_type": "code",
   "execution_count": 10,
   "metadata": {},
   "outputs": [
    {
     "data": {
      "text/markdown": [
       "$\\mathtt{\\text{I =}}$ $1.18125 \\cdot 10^{-9}$ $\\mathtt{\\text{m⁴}}$"
      ],
      "text/plain": [
       "<IPython.core.display.Markdown object>"
      ]
     },
     "metadata": {},
     "output_type": "display_data"
    },
    {
     "data": {
      "text/markdown": [
       "$P_{cr} = $ $204.023$ $\\mathtt{\\text{N}}$"
      ],
      "text/plain": [
       "<IPython.core.display.Markdown object>"
      ]
     },
     "metadata": {},
     "output_type": "display_data"
    }
   ],
   "source": [
    "# Cálculo do momento de Inércia da seção transversal\n",
    "I = (0.012**4-0.009**4)/12\n",
    "display(md(f\"${latex(\"I =\")}$ ${latex(N(I, 6))}$ ${latex(\"m⁴\")}$\"))\n",
    "# Cálculo da força axial de compressão crítica\n",
    "Pcr = ((pi**2)*E*I)/(L2**2)\n",
    "display(md(f\"$P_{{cr}} = $ ${latex(N(Pcr, 6))}$ ${latex(\"N\")}$\"))"
   ]
  },
  {
   "cell_type": "markdown",
   "metadata": {},
   "source": [
    "Agora, calcularemos a força axial de compressão crítica com o coeficiente de segurança $1{,}2$"
   ]
  },
  {
   "cell_type": "code",
   "execution_count": 11,
   "metadata": {},
   "outputs": [
    {
     "data": {
      "text/markdown": [
       "$2400.0$ $\\mathtt{\\text{N}}$"
      ],
      "text/plain": [
       "<IPython.core.display.Markdown object>"
      ]
     },
     "metadata": {},
     "output_type": "display_data"
    }
   ],
   "source": [
    "forca_axial_seguranca = abs(forcas_axiais_2[0, 0]*1.2)\n",
    "display(md(f\"${latex(N(forca_axial_seguranca, 7))}$ ${latex(\"N\")}$\"))"
   ]
  },
  {
   "cell_type": "markdown",
   "metadata": {},
   "source": [
    "A carga crítica de flambagem é dada por:"
   ]
  },
  {
   "cell_type": "markdown",
   "metadata": {},
   "source": [
    "$$P_{cr} = \\frac{\\pi^2EI}{L^2}$$\n",
    "$$2400 = \\frac{\\pi^2\\cdot 70 \\cdot 10^9 \\cdot I}{2^2}$$\n",
    "\n",
    "Isolando o $I$, temos:\n",
    "\n",
    "$$I = \\frac{2400 \\cdot 2^2}{\\pi^2 \\cdot 70 \\cdot 10^9}$$"
   ]
  },
  {
   "cell_type": "code",
   "execution_count": 12,
   "metadata": {},
   "outputs": [
    {
     "data": {
      "text/markdown": [
       "$I = 1.389548 \\cdot 10^{-8}$ m⁴"
      ],
      "text/plain": [
       "<IPython.core.display.Markdown object>"
      ]
     },
     "metadata": {},
     "output_type": "display_data"
    }
   ],
   "source": [
    "I = (forca_axial_seguranca * L2**2) / (pi**2 * E)\n",
    "\n",
    "display(md(f\"$I = {latex(N(I, 7))}$ m⁴\"))"
   ]
  },
  {
   "cell_type": "markdown",
   "metadata": {},
   "source": [
    "Sabendo que momento de Inércia da seção Transversal é dado por:\n",
    "\n",
    "$$I = \\frac{a^4_e - a^4_i}{12} $$"
   ]
  },
  {
   "cell_type": "markdown",
   "metadata": {},
   "source": [
    "Se mantivermos o $a_e$, seria impossível chegar ao valor mínimo, então reforçarei $a_e$ e manterei $a_i$\n",
    "$$I = \\frac{a^4_e - 0{,}009^4}{12} $$\n",
    "$$a_e = \\sqrt[4]{12 \\cdot I + 0{,}009^4}$$\n",
    "Calculando $a_e$"
   ]
  },
  {
   "cell_type": "code",
   "execution_count": 13,
   "metadata": {},
   "outputs": [
    {
     "data": {
      "text/markdown": [
       "$a_e =$ $0.02040346$ $\\mathtt{\\text{m}}$"
      ],
      "text/plain": [
       "<IPython.core.display.Markdown object>"
      ]
     },
     "metadata": {},
     "output_type": "display_data"
    }
   ],
   "source": [
    "# Calculando a_e\n",
    "a_e = (12 * I + 0.009**4)**0.25\n",
    "display(md(f\"$a_e =$ ${latex(N(a_e, 7))}$ ${latex(\"m\")}$\"))"
   ]
  },
  {
   "cell_type": "code",
   "execution_count": 14,
   "metadata": {},
   "outputs": [
    {
     "name": "stdout",
     "output_type": "stream",
     "text": [
      "Nova área da seção transversal (A):\n"
     ]
    },
    {
     "data": {
      "text/markdown": [
       "$0.0003353$ $\\mathtt{\\text{m²}}$"
      ],
      "text/plain": [
       "<IPython.core.display.Markdown object>"
      ]
     },
     "metadata": {},
     "output_type": "display_data"
    },
    {
     "name": "stdout",
     "output_type": "stream",
     "text": [
      "Nova matriz de rigidez do elemento 1 (k1):\n"
     ]
    },
    {
     "data": {
      "text/markdown": [
       "$\\left[\\begin{matrix}8397271.2 & -4198635.6 & -8397271.2 & 4198635.6\\\\-4198635.6 & 2099317.8 & 4198635.6 & -2099317.8\\\\-8397271.2 & 4198635.6 & 8397271.2 & -4198635.6\\\\4198635.6 & -2099317.8 & -4198635.6 & 2099317.8\\end{matrix}\\right]$"
      ],
      "text/plain": [
       "<IPython.core.display.Markdown object>"
      ]
     },
     "metadata": {},
     "output_type": "display_data"
    },
    {
     "name": "stdout",
     "output_type": "stream",
     "text": [
      "\n",
      "Nova matriz de rigidez do elemento 2 (k2):\n"
     ]
    },
    {
     "data": {
      "text/markdown": [
       "$\\left[\\begin{matrix}11735543.3 & 0 & -11735543.3 & 0\\\\0 & 0 & 0 & 0\\\\-11735543.3 & 0 & 11735543.3 & 0\\\\0 & 0 & 0 & 0\\end{matrix}\\right]$"
      ],
      "text/plain": [
       "<IPython.core.display.Markdown object>"
      ]
     },
     "metadata": {},
     "output_type": "display_data"
    },
    {
     "name": "stdout",
     "output_type": "stream",
     "text": [
      "\n",
      "Nova matriz global de rigidez:\n"
     ]
    },
    {
     "data": {
      "text/markdown": [
       "$\\left[\\begin{matrix}8397271.2 & -4198635.6 & -8397271.2 & 4198635.6 & 0 & 0\\\\-4198635.6 & 2099317.8 & 4198635.6 & -2099317.8 & 0 & 0\\\\-8397271.2 & 4198635.6 & 20132814.5 & -4198635.6 & -11735543.3 & 0\\\\4198635.6 & -2099317.8 & -4198635.6 & 2099317.8 & 0 & 0\\\\0 & 0 & -11735543.3 & 0 & 11735543.3 & 0\\\\0 & 0 & 0 & 0 & 0 & 0\\end{matrix}\\right]$"
      ],
      "text/plain": [
       "<IPython.core.display.Markdown object>"
      ]
     },
     "metadata": {},
     "output_type": "display_data"
    },
    {
     "name": "stdout",
     "output_type": "stream",
     "text": [
      "\n",
      "Novos deslocamentos nodais desconhecidos:\n",
      "\n",
      "Novos deslocamentos nodais desconhecidos:\n"
     ]
    },
    {
     "data": {
      "text/markdown": [
       "$\\left[\\begin{matrix}-0.0001704\\\\-0.0008172\\end{matrix}\\right]$"
      ],
      "text/plain": [
       "<IPython.core.display.Markdown object>"
      ]
     },
     "metadata": {},
     "output_type": "display_data"
    },
    {
     "name": "stdout",
     "output_type": "stream",
     "text": [
      "\n",
      "Novas forças de reação nos apoios:\n"
     ]
    },
    {
     "data": {
      "text/markdown": [
       "$\\left[\\begin{matrix}-2000.0\\\\1000.0\\end{matrix}\\right]$"
      ],
      "text/plain": [
       "<IPython.core.display.Markdown object>"
      ]
     },
     "metadata": {},
     "output_type": "display_data"
    },
    {
     "data": {
      "text/markdown": [
       "$\\left[\\begin{matrix}0\\\\-1000.0\\end{matrix}\\right]$"
      ],
      "text/plain": [
       "<IPython.core.display.Markdown object>"
      ]
     },
     "metadata": {},
     "output_type": "display_data"
    },
    {
     "data": {
      "text/markdown": [
       "$\\left[\\begin{matrix}2000.0\\\\0\\end{matrix}\\right]$"
      ],
      "text/plain": [
       "<IPython.core.display.Markdown object>"
      ]
     },
     "metadata": {},
     "output_type": "display_data"
    },
    {
     "name": "stdout",
     "output_type": "stream",
     "text": [
      "\n",
      "Novas forças axiais no elemento 1:\n"
     ]
    },
    {
     "data": {
      "text/markdown": [
       "$\\left[\\begin{matrix}-2236.068\\\\0\\\\2236.068\\\\0\\end{matrix}\\right]$"
      ],
      "text/plain": [
       "<IPython.core.display.Markdown object>"
      ]
     },
     "metadata": {},
     "output_type": "display_data"
    },
    {
     "name": "stdout",
     "output_type": "stream",
     "text": [
      "\n",
      "Novas forças axiais no elemento 2:\n"
     ]
    },
    {
     "data": {
      "text/markdown": [
       "$\\left[\\begin{matrix}-2000.0\\\\0\\\\2000.0\\\\0\\end{matrix}\\right]$"
      ],
      "text/plain": [
       "<IPython.core.display.Markdown object>"
      ]
     },
     "metadata": {},
     "output_type": "display_data"
    },
    {
     "name": "stdout",
     "output_type": "stream",
     "text": [
      "\n",
      "Nova tensão no elemento 1:\n"
     ]
    },
    {
     "data": {
      "text/markdown": [
       "$6668833.1$ $\\mathtt{\\text{Pa}}$"
      ],
      "text/plain": [
       "<IPython.core.display.Markdown object>"
      ]
     },
     "metadata": {},
     "output_type": "display_data"
    },
    {
     "name": "stdout",
     "output_type": "stream",
     "text": [
      "\n",
      "Nova tensão no elemento 2:\n"
     ]
    },
    {
     "data": {
      "text/markdown": [
       "$-5964785.6$ $\\mathtt{\\text{Pa}}$"
      ],
      "text/plain": [
       "<IPython.core.display.Markdown object>"
      ]
     },
     "metadata": {},
     "output_type": "display_data"
    },
    {
     "name": "stdout",
     "output_type": "stream",
     "text": [
      "\n",
      "Nova força axial de compressão crítica:\n"
     ]
    },
    {
     "data": {
      "text/markdown": [
       "$2400.0$ $\\mathtt{\\text{N}}$"
      ],
      "text/plain": [
       "<IPython.core.display.Markdown object>"
      ]
     },
     "metadata": {},
     "output_type": "display_data"
    }
   ],
   "source": [
    "# Atualizando a área da seção transversal com o novo a_e\n",
    "A = (a_e**2-0.009**2)\n",
    "\n",
    "# Recalculando as constantes de rigidez axial dos elementos\n",
    "EAL1 = E * A / L1\n",
    "EAL2 = E * A / L2\n",
    "\n",
    "# Recalculando as matrizes de rigidez dos elementos\n",
    "k1 = calcular_matriz_rigidez(E, A, L1, ang1)\n",
    "k2 = calcular_matriz_rigidez(E, A, L2, ang2)\n",
    "\n",
    "# Recalculando a matriz global de rigidez\n",
    "matriz_global = montar_matriz_global(k1, k2)\n",
    "\n",
    "# Recalculando os deslocamentos nodais desconhecidos\n",
    "deslocamentos = resolucao_sistema(matriz_global, vetor_forcas_reduzido)\n",
    "\n",
    "# Recalculando o vetor de deslocamentos completo\n",
    "deslocamentos_completos = calcular_deslocamentos_completos(deslocamentos)\n",
    "\n",
    "# Recalculando as forças de reação nos apoios\n",
    "forcas_reacao = calcular_forcas_reacao(deslocamentos_completos, matriz_global)\n",
    "\n",
    "# Recalculando os deslocamentos em coordenadas locais\n",
    "deslocamentos_locais_1 = T1 * deslocamentos_completos[0:4, 0]\n",
    "deslocamentos_locais_2 = T2 * deslocamentos_completos[2:6, 0]\n",
    "\n",
    "# Recalculando as forças axiais nos elementos\n",
    "forcas_axiais_1 = calcular_forcas_axiais(EAL1, Matrix(deslocamentos_locais_1))\n",
    "forcas_axiais_2 = calcular_forcas_axiais(EAL2, Matrix(deslocamentos_locais_2))\n",
    "\n",
    "# Recalculando as tensões nos elementos\n",
    "tensao_1 = (forcas_axiais_1[2] + forcas_axiais_1[3]) / A\n",
    "tensao_2 = (forcas_axiais_2[0] + forcas_axiais_2[1]) / A\n",
    "# Recalculando a força axial de compressão crítica\n",
    "Pcr = ((pi**2)*E*I)/(L2**2)\n",
    "\n",
    "# Exibindo os resultados recalculados\n",
    "print(\"Nova área da seção transversal (A):\")\n",
    "display(md(f\"${latex(N(A, 4))}$ ${latex(\"m²\")}$\"))\n",
    "print(\"Nova matriz de rigidez do elemento 1 (k1):\")\n",
    "display(md(f\"${latex(N(k1, 9))}$\"))\n",
    "print(\"\\nNova matriz de rigidez do elemento 2 (k2):\")\n",
    "display(md(f\"${latex(N(k2, 9))}$\"))\n",
    "print(\"\\nNova matriz global de rigidez:\")\n",
    "display(md(f\"${latex(N(matriz_global, 9))}$\"))\n",
    "print(\"\\nNovos deslocamentos nodais desconhecidos:\")\n",
    "print(\"\\nNovos deslocamentos nodais desconhecidos:\")\n",
    "display(md(f\"${latex(N(deslocamentos, 4))}$\"))\n",
    "\n",
    "print(\"\\nNovas forças de reação nos apoios:\")\n",
    "display(md(f\"${latex(N(Matrix(forcas_reacao[0:2, 0])))}$\")) # Reações no nó 0\n",
    "display(md(f\"${latex(N(Matrix(forcas_reacao[2:4, 0])))}$\")) # Reações no nó 1\n",
    "display(md(f\"${latex(N(Matrix(forcas_reacao[4:6, 0])))}$\")) # Reações no nó 2\n",
    "print(\"\\nNovas forças axiais no elemento 1:\")\n",
    "display(md(f\"${latex(N(forcas_axiais_1, 7))}$\"))\n",
    "print(\"\\nNovas forças axiais no elemento 2:\")\n",
    "display(md(f\"${latex(N(forcas_axiais_2))}$\"))\n",
    "print(\"\\nNova tensão no elemento 1:\")\n",
    "display(md(f\"${latex(N(tensao_1, 8))}$ ${latex(\"Pa\")}$\"))\n",
    "print(\"\\nNova tensão no elemento 2:\")\n",
    "display(md(f\"${latex(N(tensao_2, 8))}$ ${latex(\"Pa\")}$\"))\n",
    "print(\"\\nNova força axial de compressão crítica:\")\n",
    "display(md(f\"${latex(N(Pcr))}$ ${latex(\"N\")}$\"))"
   ]
  },
  {
   "cell_type": "markdown",
   "metadata": {},
   "source": [
    "### Tensão de escoamento\n"
   ]
  },
  {
   "cell_type": "markdown",
   "metadata": {},
   "source": [
    "A tensão de escoamento com coeficiente de segurança $2$ é dada por"
   ]
  },
  {
   "cell_type": "code",
   "execution_count": 15,
   "metadata": {},
   "outputs": [
    {
     "data": {
      "text/markdown": [
       "$13337666.1655539$"
      ],
      "text/plain": [
       "<IPython.core.display.Markdown object>"
      ]
     },
     "metadata": {},
     "output_type": "display_data"
    }
   ],
   "source": [
    "Sy = tensao_1 * 2\n",
    "display(md(f\"${latex(N(Sy))}$\"))\n"
   ]
  },
  {
   "cell_type": "markdown",
   "metadata": {},
   "source": [
    "Como podemos ver, a tensão do elemento 1 está dentro da normas de segurança ($\\sigma _y = 70 \\cdot 10^6$ Pa)"
   ]
  },
  {
   "cell_type": "markdown",
   "metadata": {},
   "source": [
    "$$$$"
   ]
  },
  {
   "cell_type": "code",
   "execution_count": 16,
   "metadata": {},
   "outputs": [
    {
     "data": {
      "text/markdown": [
       "O volume da barra 1 é: $0.00075$ m³"
      ],
      "text/plain": [
       "<IPython.core.display.Markdown object>"
      ]
     },
     "metadata": {},
     "output_type": "display_data"
    },
    {
     "data": {
      "text/markdown": [
       "O volume da barra 2 é: $0.000671$ m³"
      ],
      "text/plain": [
       "<IPython.core.display.Markdown object>"
      ]
     },
     "metadata": {},
     "output_type": "display_data"
    },
    {
     "data": {
      "text/markdown": [
       "A massa da barra 1 é: $2.09932$ kg"
      ],
      "text/plain": [
       "<IPython.core.display.Markdown object>"
      ]
     },
     "metadata": {},
     "output_type": "display_data"
    },
    {
     "data": {
      "text/markdown": [
       "A massa da barra 2 é: $1.87769$ kg"
      ],
      "text/plain": [
       "<IPython.core.display.Markdown object>"
      ]
     },
     "metadata": {},
     "output_type": "display_data"
    }
   ],
   "source": [
    "# Densidade do material (kg/m³)\n",
    "densidade = 2800\n",
    "\n",
    "# Volume da seção transversal (m³)\n",
    "volume1 = A * L1 \n",
    "volume2 = A * L2\n",
    "display(md(f\"O volume da barra 1 é: ${latex(N(volume1, 3))}$ m³\"))\n",
    "display(md(f\"O volume da barra 2 é: ${latex(N(volume2, 3))}$ m³\"))\n",
    "\n",
    "massa1 = densidade * volume1\n",
    "massa2 = densidade * volume2\n",
    "display(md(f\"A massa da barra 1 é: ${latex(N(massa1, 6))}$ kg\"))\n",
    "display(md(f\"A massa da barra 2 é: ${latex(N(massa2, 6))}$ kg\"))"
   ]
  },
  {
   "cell_type": "markdown",
   "metadata": {},
   "source": [
    "### Representações gráficas das treliças\n",
    "- Estrutura:\n",
    "\n",
    "<img src=\"img/Estrutura.png\">\n",
    "\n",
    "- Força Axial:\n",
    "\n",
    "<img src=\"img/ForçaAxial.png\">\n",
    "\n",
    "- Deformação:\n",
    "\n",
    "Antes:\n",
    "\n",
    "<img src=\"img/Deformação.png\">\n",
    "\n",
    "Depois:\n",
    "\n",
    "<img src=\"img/Deformação2.png\">\n",
    "\n",
    "- Tensão Normal:\n",
    "\n",
    "Antes:\n",
    "\n",
    "<img src=\"img/TensãoNormal.png\">\n",
    "\n",
    "Depois:\n",
    "\n",
    "<img src=\"img/TensãoNormal2.png\">\n",
    "\n",
    "- Volume:\n",
    "\n",
    "Antes:\n",
    "\n",
    "<img src=\"img/Volume.png\">\n",
    "\n",
    "Depois:\n",
    "\n",
    "<img src=\"img/Volume2.png\">"
   ]
  }
 ],
 "metadata": {
  "kernelspec": {
   "display_name": "Python 3",
   "language": "python",
   "name": "python3"
  },
  "language_info": {
   "codemirror_mode": {
    "name": "ipython",
    "version": 3
   },
   "file_extension": ".py",
   "mimetype": "text/x-python",
   "name": "python",
   "nbconvert_exporter": "python",
   "pygments_lexer": "ipython3",
   "version": "3.13.3"
  }
 },
 "nbformat": 4,
 "nbformat_minor": 2
}
