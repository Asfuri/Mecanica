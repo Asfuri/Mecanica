{
 "cells": [
  {
   "cell_type": "markdown",
   "metadata": {},
   "source": [
    "# Definição de Constantes e Parâmetros\n",
    "Defina as constantes, como módulo de elasticidade, área da seção transversal, comprimentos e ângulos dos elementos."
   ]
  },
  {
   "cell_type": "code",
   "execution_count": 1,
   "metadata": {},
   "outputs": [],
   "source": [
    "import numpy as np\n",
    "\n",
    "np.set_printoptions(linewidth=200)\n",
    "\n",
    "# Definição de Constantes e Parâmetros\n",
    "\n",
    "# Módulo de elasticidade (Pa)\n",
    "E = 70e9\n",
    "\n",
    "# Área da seção transversal (m²)\n",
    "A = 0.000063\n",
    "\n",
    "# Comprimentos dos elementos (m)\n",
    "L1 = np.sqrt(5)  # Comprimento do elemento 1\n",
    "L2 = 2           # Comprimento do elemento 2\n",
    "\n",
    "# Constantes de rigidez axial dos elementos\n",
    "EAKL1 = E * A / L1  # Rigidez axial do elemento 1\n",
    "EAKL2 = E * A / L2  # Rigidez axial do elemento 2\n",
    "\n",
    "# Ângulos dos elementos (radianos)\n",
    "ang1 = np.arctan(-0.5)  # Ângulo do elemento 1\n",
    "ang2 = 0                # Ângulo do elemento 2"
   ]
  },
  {
   "cell_type": "markdown",
   "metadata": {},
   "source": [
    "# Cálculo das Matrizes de Rigidez"
   ]
  },
  {
   "cell_type": "code",
   "execution_count": 2,
   "metadata": {},
   "outputs": [
    {
     "name": "stdout",
     "output_type": "stream",
     "text": [
      "Matriz de rigidez do elemento 1 (k1):\n",
      "[[ 0.8 -0.4 -0.8  0.4]\n",
      " [-0.4  0.2  0.4 -0.2]\n",
      " [-0.8  0.4  0.8 -0.4]\n",
      " [ 0.4 -0.2 -0.4  0.2]]\n",
      "\n",
      "Matriz de rigidez do elemento 2 (k2):\n",
      "[[ 1.  0. -1. -0.]\n",
      " [ 0.  0. -0. -0.]\n",
      " [-1. -0.  1.  0.]\n",
      " [-0. -0.  0.  0.]]\n"
     ]
    }
   ],
   "source": [
    "# Matriz de rigidez do elemento 1\n",
    "k1 = np.array([\n",
    "    [np.cos(ang1)**2, np.cos(ang1)*np.sin(ang1), -np.cos(ang1)**2, -np.cos(ang1)*np.sin(ang1)],\n",
    "    [np.cos(ang1)*np.sin(ang1), np.sin(ang1)**2, -np.cos(ang1)*np.sin(ang1), -np.sin(ang1)**2],\n",
    "    [-np.cos(ang1)**2, -np.cos(ang1)*np.sin(ang1), np.cos(ang1)**2, np.cos(ang1)*np.sin(ang1)],\n",
    "    [-np.cos(ang1)*np.sin(ang1), -np.sin(ang1)**2, np.cos(ang1)*np.sin(ang1), np.sin(ang1)**2]\n",
    "])\n",
    "\n",
    "# Matriz de rigidez do elemento 2\n",
    "k2 = np.array([\n",
    "    [np.cos(ang2)**2, np.cos(ang2)*np.sin(ang2), -np.cos(ang2)**2, -np.cos(ang2)*np.sin(ang2)],\n",
    "    [np.cos(ang2)*np.sin(ang2), np.sin(ang2)**2, -np.cos(ang2)*np.sin(ang2), -np.sin(ang2)**2],\n",
    "    [-np.cos(ang2)**2, -np.cos(ang2)*np.sin(ang2), np.cos(ang2)**2, np.cos(ang2)*np.sin(ang2)],\n",
    "    [-np.cos(ang2)*np.sin(ang2), -np.sin(ang2)**2, np.cos(ang2)*np.sin(ang2), np.sin(ang2)**2]\n",
    "])\n",
    "\n",
    "print(\"Matriz de rigidez do elemento 1 (k1):\")\n",
    "print(k1)\n",
    "\n",
    "print(\"\\nMatriz de rigidez do elemento 2 (k2):\")\n",
    "print(k2)"
   ]
  },
  {
   "cell_type": "markdown",
   "metadata": {},
   "source": [
    "# Montagem da Matriz Global\n",
    "Monte a matriz global de rigidez combinando as matrizes dos elementos individuais."
   ]
  },
  {
   "cell_type": "code",
   "execution_count": null,
   "metadata": {},
   "outputs": [
    {
     "name": "stdout",
     "output_type": "stream",
     "text": [
      "Matriz global de rigidez:\n",
      "[[ 1577769.56492385  -788884.78246193 -1577769.56492385   788884.78246193        0.                0.        ]\n",
      " [ -788884.78246193   394442.39123096   788884.78246193  -394442.39123096        0.                0.        ]\n",
      " [-1577769.56492385   788884.78246193  3782769.56492385  -788884.78246193 -2205000.                0.        ]\n",
      " [  788884.78246193  -394442.39123096  -788884.78246193   394442.39123096        0.                0.        ]\n",
      " [       0.                0.         -2205000.                0.          2205000.                0.        ]\n",
      " [       0.                0.                0.                0.                0.                0.        ]]\n"
     ]
    }
   ],
   "source": [
    "# Inicialização da matriz global de rigidez (6x6) com zeros\n",
    "matriz_global = np.zeros((6, 6))\n",
    "\n",
    "# Inserção da matriz de rigidez do elemento 1 na matriz global\n",
    "matriz_global[0:4, 0:4] += EAKL1 * k1\n",
    "\n",
    "# Inserção da matriz de rigidez do elemento 2 na matriz global\n",
    "matriz_global[2:6, 2:6] += EAKL2 * k2\n",
    "\n",
    "print(\"Matriz global de rigidez:\")\n",
    "print(matriz_global)"
   ]
  },
  {
   "cell_type": "markdown",
   "metadata": {},
   "source": [
    "# Resolução do Sistema"
   ]
  },
  {
   "cell_type": "code",
   "execution_count": null,
   "metadata": {},
   "outputs": [
    {
     "name": "stdout",
     "output_type": "stream",
     "text": [
      "Deslocamentos nodais desconhecidos:\n",
      "[-0.00090703 -0.00434928]\n"
     ]
    }
   ],
   "source": [
    "# Redução da matriz global para considerar as condições de contorno\n",
    "# Como sabemos que os deslocamentos na parede são nulos, então cancelamos as linhas e colunas correspondentes, ficando assim apenas uma matriz reduzida\n",
    "matriz_reduzida = matriz_global[2:4, 2:4]\n",
    "\n",
    "# Vetor de forças reduzido (considerando apenas os graus de liberdade desconhecidos)\n",
    "vetor_forcas_reduzido = np.array([0, -1000])  # Força aplicada no nó correspondente\n",
    "\n",
    "# Resolvendo o sistema de equações para os deslocamentos nodais desconhecidos\n",
    "deslocamentos = np.linalg.solve(matriz_reduzida, vetor_forcas_reduzido)\n",
    "\n",
    "# Exibindo os deslocamentos nodais desconhecidos\n",
    "print(\"Deslocamentos nodais desconhecidos:\")\n",
    "print(deslocamentos)"
   ]
  },
  {
   "cell_type": "markdown",
   "metadata": {},
   "source": [
    "# Cálculo das Forças de Reação"
   ]
  },
  {
   "cell_type": "code",
   "execution_count": 10,
   "metadata": {},
   "outputs": [
    {
     "name": "stdout",
     "output_type": "stream",
     "text": [
      "Forças de reação nos apoios:\n",
      "[-2000.  1000.]\n",
      "[    0. -1000.]\n",
      "[2000.    0.]\n"
     ]
    }
   ],
   "source": [
    "# Reconstrução do vetor de deslocamentos completo, incluindo os deslocamentos conhecidos (zeros nos apoios)\n",
    "deslocamentos_completos = np.zeros(6)\n",
    "deslocamentos_completos[2:4] = deslocamentos\n",
    "\n",
    "# Cálculo das forças de reação nos apoios utilizando a matriz global de rigidez\n",
    "forcas_reacao = np.dot(matriz_global, deslocamentos_completos)\n",
    "\n",
    "# Exibindo as forças de reação nos apoios\n",
    "print(\"Forças de reação nos apoios:\")\n",
    "print(forcas_reacao[0:2])  # Reações no nó 0\n",
    "print(forcas_reacao[2:4])  # Reações no nó 1\n",
    "print(forcas_reacao[4:6])  # Reações no nó 2"
   ]
  },
  {
   "cell_type": "markdown",
   "metadata": {},
   "source": [
    "# Transformação para Coordenadas Locais"
   ]
  },
  {
   "cell_type": "code",
   "execution_count": null,
   "metadata": {},
   "outputs": [
    {
     "name": "stdout",
     "output_type": "stream",
     "text": [
      "Deslocamentos em coordenadas locais para o elemento 1:\n",
      "[ 0.          0.          0.00113379 -0.00429575]\n",
      "\n",
      "Deslocamentos em coordenadas locais para o elemento 2:\n",
      "[-0.00090703 -0.00434928  0.          0.        ]\n"
     ]
    }
   ],
   "source": [
    "# Matriz de transformação para o elemento 1\n",
    "T1 = np.array([\n",
    "    [np.cos(ang1), np.sin(ang1), 0, 0],\n",
    "    [-np.sin(ang1), np.cos(ang1), 0, 0],\n",
    "    [0, 0, np.cos(ang1), np.sin(ang1)],\n",
    "    [0, 0, -np.sin(ang1), np.cos(ang1)]\n",
    "])\n",
    "\n",
    "# Matriz de transformação para o elemento 2\n",
    "T2 = np.array([\n",
    "    [np.cos(ang2), np.sin(ang2), 0, 0],\n",
    "    [-np.sin(ang2), np.cos(ang2), 0, 0],\n",
    "    [0, 0, np.cos(ang2), np.sin(ang2)],\n",
    "    [0, 0, -np.sin(ang2), np.cos(ang2)]\n",
    "])\n",
    "\n",
    "# Transformação dos deslocamentos globais para coordenadas locais\n",
    "deslocamentos_locais_1 = np.dot(T1, deslocamentos_completos[0:4])\n",
    "deslocamentos_locais_2 = np.dot(T2, deslocamentos_completos[2:6])\n",
    "\n",
    "# Exibindo os deslocamentos transformados para coordenadas locais\n",
    "print(\"Deslocamentos em coordenadas locais para o elemento 1:\")\n",
    "print(deslocamentos_locais_1)\n",
    "\n",
    "print(\"\\nDeslocamentos em coordenadas locais para o elemento 2:\")\n",
    "print(deslocamentos_locais_2)"
   ]
  },
  {
   "cell_type": "markdown",
   "metadata": {},
   "source": [
    "# Cálculo das Forças Axiais"
   ]
  },
  {
   "cell_type": "code",
   "execution_count": null,
   "metadata": {},
   "outputs": [
    {
     "name": "stdout",
     "output_type": "stream",
     "text": [
      "Forças axiais no elemento 1:\n",
      "[-2236.0679775     0.         2236.0679775     0.       ]\n",
      "\n",
      "Forças axiais no elemento 2:\n",
      "[-2000.     0.  2000.     0.]\n"
     ]
    }
   ],
   "source": [
    "# Matriz de forças-deslocamentos local para cálculo das forças axiais\n",
    "matriz_forcas_deslocamento = np.array([\n",
    "    [1, 0, -1, 0],\n",
    "    [0, 0, 0, 0],\n",
    "    [-1, 0, 1, 0],\n",
    "    [0, 0, 0, 0]\n",
    "])\n",
    "\n",
    "# Cálculo das forças axiais no elemento 1\n",
    "forcas_axiais_1 = EAKL1 * np.dot(matriz_forcas_deslocamento, deslocamentos_locais_1)\n",
    "print(\"Forças axiais no elemento 1:\")\n",
    "print(forcas_axiais_1)\n",
    "\n",
    "# Cálculo das forças axiais no elemento 2\n",
    "forcas_axiais_2 = EAKL2 * np.dot(matriz_forcas_deslocamento, deslocamentos_locais_2)\n",
    "print(\"\\nForças axiais no elemento 2:\")\n",
    "print(forcas_axiais_2)"
   ]
  },
  {
   "cell_type": "markdown",
   "metadata": {},
   "source": [
    "# Cálculo das Tensões"
   ]
  },
  {
   "cell_type": "code",
   "execution_count": null,
   "metadata": {},
   "outputs": [
    {
     "name": "stdout",
     "output_type": "stream",
     "text": [
      "Tensão no elemento 1 (Pa):\n",
      "35493142.49999667\n",
      "\n",
      "Tensão no elemento 2 (Pa):\n",
      "31746031.746031743\n"
     ]
    }
   ],
   "source": [
    "# Cálculo das tensões no elemento 1\n",
    "tensao_1 = (forcas_axiais_1[2] + forcas_axiais_1[3]) / A\n",
    "print(\"Tensão no elemento 1 (Pa):\")\n",
    "print(tensao_1)\n",
    "\n",
    "# Cálculo das tensões no elemento 2\n",
    "tensao_2 = (forcas_axiais_2[2] + forcas_axiais_2[3]) / A\n",
    "print(\"\\nTensão no elemento 2 (Pa):\")\n",
    "print(tensao_2)"
   ]
  }
 ],
 "metadata": {
  "kernelspec": {
   "display_name": "Python 3",
   "language": "python",
   "name": "python3"
  },
  "language_info": {
   "codemirror_mode": {
    "name": "ipython",
    "version": 3
   },
   "file_extension": ".py",
   "mimetype": "text/x-python",
   "name": "python",
   "nbconvert_exporter": "python",
   "pygments_lexer": "ipython3",
   "version": "3.13.2"
  }
 },
 "nbformat": 4,
 "nbformat_minor": 2
}
